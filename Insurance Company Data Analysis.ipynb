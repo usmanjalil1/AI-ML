{
 "cells": [
  {
   "cell_type": "code",
   "execution_count": 1,
   "id": "d8a96368",
   "metadata": {},
   "outputs": [],
   "source": [
    "import pandas as pd\n",
    "import matplotlib.pyplot as plt\n",
    "import numpy as np\n",
    "import seaborn as sns\n",
    "%matplotlib inline"
   ]
  },
  {
   "cell_type": "code",
   "execution_count": 2,
   "id": "10df4ad2",
   "metadata": {},
   "outputs": [],
   "source": [
    "df = pd.read_csv('Claim Policy_ECA.csv')"
   ]
  },
  {
   "cell_type": "code",
   "execution_count": 3,
   "id": "7dae5980",
   "metadata": {},
   "outputs": [
    {
     "data": {
      "text/html": [
       "<div>\n",
       "<style scoped>\n",
       "    .dataframe tbody tr th:only-of-type {\n",
       "        vertical-align: middle;\n",
       "    }\n",
       "\n",
       "    .dataframe tbody tr th {\n",
       "        vertical-align: top;\n",
       "    }\n",
       "\n",
       "    .dataframe thead th {\n",
       "        text-align: right;\n",
       "    }\n",
       "</style>\n",
       "<table border=\"1\" class=\"dataframe\">\n",
       "  <thead>\n",
       "    <tr style=\"text-align: right;\">\n",
       "      <th></th>\n",
       "      <th>Claim_ID</th>\n",
       "      <th>Policy_No</th>\n",
       "      <th>Name</th>\n",
       "      <th>Planned</th>\n",
       "      <th>Actual</th>\n",
       "      <th>Created</th>\n",
       "      <th>Amount</th>\n",
       "      <th>Paid</th>\n",
       "      <th>Category</th>\n",
       "      <th>Terms</th>\n",
       "      <th>Region</th>\n",
       "      <th>Type</th>\n",
       "    </tr>\n",
       "  </thead>\n",
       "  <tbody>\n",
       "    <tr>\n",
       "      <th>0</th>\n",
       "      <td>2.928510e+09</td>\n",
       "      <td>300764795</td>\n",
       "      <td>Roger Torres</td>\n",
       "      <td>17/1/2021</td>\n",
       "      <td>18/1/2021 0:00</td>\n",
       "      <td>20210112</td>\n",
       "      <td>3072.349</td>\n",
       "      <td>Yes</td>\n",
       "      <td>AT</td>\n",
       "      <td>AD23</td>\n",
       "      <td>LOC</td>\n",
       "      <td>L001</td>\n",
       "    </tr>\n",
       "    <tr>\n",
       "      <th>1</th>\n",
       "      <td>2.928511e+09</td>\n",
       "      <td>300434439</td>\n",
       "      <td>Jason Jones</td>\n",
       "      <td>5/2/2021</td>\n",
       "      <td>16/1/2021 0:00</td>\n",
       "      <td>20210130</td>\n",
       "      <td>910.944</td>\n",
       "      <td>Yes</td>\n",
       "      <td>AT</td>\n",
       "      <td>EC05</td>\n",
       "      <td>LOC</td>\n",
       "      <td>L001</td>\n",
       "    </tr>\n",
       "    <tr>\n",
       "      <th>2</th>\n",
       "      <td>2.928517e+09</td>\n",
       "      <td>300769623</td>\n",
       "      <td>Robert Martin</td>\n",
       "      <td>18/1/2021</td>\n",
       "      <td>14/1/2021 0:00</td>\n",
       "      <td>20210113</td>\n",
       "      <td>567.936</td>\n",
       "      <td>Yes</td>\n",
       "      <td>AT</td>\n",
       "      <td>AB27</td>\n",
       "      <td>LOC</td>\n",
       "      <td>L001</td>\n",
       "    </tr>\n",
       "    <tr>\n",
       "      <th>3</th>\n",
       "      <td>2.928517e+09</td>\n",
       "      <td>300794332</td>\n",
       "      <td>Stacy Anderson</td>\n",
       "      <td>15/1/2021</td>\n",
       "      <td>18/1/2021 0:00</td>\n",
       "      <td>20210110</td>\n",
       "      <td>181.651</td>\n",
       "      <td>Yes</td>\n",
       "      <td>AT</td>\n",
       "      <td>AE14</td>\n",
       "      <td>LOC</td>\n",
       "      <td>L001</td>\n",
       "    </tr>\n",
       "    <tr>\n",
       "      <th>4</th>\n",
       "      <td>2.928518e+09</td>\n",
       "      <td>300792283</td>\n",
       "      <td>Mr. Adam Whitaker III</td>\n",
       "      <td>5/2/2021</td>\n",
       "      <td>8/2/2021 0:00</td>\n",
       "      <td>20210131</td>\n",
       "      <td>238.74</td>\n",
       "      <td>Yes</td>\n",
       "      <td>AT</td>\n",
       "      <td>EC05</td>\n",
       "      <td>LOC</td>\n",
       "      <td>L001</td>\n",
       "    </tr>\n",
       "  </tbody>\n",
       "</table>\n",
       "</div>"
      ],
      "text/plain": [
       "       Claim_ID  Policy_No                   Name    Planned          Actual  \\\n",
       "0  2.928510e+09  300764795           Roger Torres  17/1/2021  18/1/2021 0:00   \n",
       "1  2.928511e+09  300434439            Jason Jones   5/2/2021  16/1/2021 0:00   \n",
       "2  2.928517e+09  300769623          Robert Martin  18/1/2021  14/1/2021 0:00   \n",
       "3  2.928517e+09  300794332         Stacy Anderson  15/1/2021  18/1/2021 0:00   \n",
       "4  2.928518e+09  300792283  Mr. Adam Whitaker III   5/2/2021   8/2/2021 0:00   \n",
       "\n",
       "    Created    Amount Paid Category Terms Region  Type  \n",
       "0  20210112  3072.349  Yes       AT  AD23    LOC  L001  \n",
       "1  20210130   910.944  Yes       AT  EC05    LOC  L001  \n",
       "2  20210113   567.936  Yes       AT  AB27    LOC  L001  \n",
       "3  20210110   181.651  Yes       AT  AE14    LOC  L001  \n",
       "4  20210131    238.74  Yes       AT  EC05    LOC  L001  "
      ]
     },
     "execution_count": 3,
     "metadata": {},
     "output_type": "execute_result"
    }
   ],
   "source": [
    "df.head()"
   ]
  },
  {
   "cell_type": "code",
   "execution_count": 4,
   "id": "ee0c2a7e",
   "metadata": {},
   "outputs": [
    {
     "name": "stdout",
     "output_type": "stream",
     "text": [
      "<class 'pandas.core.frame.DataFrame'>\n",
      "RangeIndex: 24213 entries, 0 to 24212\n",
      "Data columns (total 12 columns):\n",
      " #   Column     Non-Null Count  Dtype  \n",
      "---  ------     --------------  -----  \n",
      " 0   Claim_ID   24208 non-null  float64\n",
      " 1   Policy_No  24213 non-null  int64  \n",
      " 2   Name       24213 non-null  object \n",
      " 3   Planned    24213 non-null  object \n",
      " 4   Actual     22536 non-null  object \n",
      " 5   Created    24213 non-null  int64  \n",
      " 6   Amount     24213 non-null  object \n",
      " 7   Paid       24213 non-null  object \n",
      " 8   Category   24213 non-null  object \n",
      " 9   Terms      24213 non-null  object \n",
      " 10  Region     24213 non-null  object \n",
      " 11  Type       24213 non-null  object \n",
      "dtypes: float64(1), int64(2), object(9)\n",
      "memory usage: 2.2+ MB\n"
     ]
    }
   ],
   "source": [
    "df.info()"
   ]
  },
  {
   "cell_type": "code",
   "execution_count": 5,
   "id": "57a80379",
   "metadata": {},
   "outputs": [
    {
     "data": {
      "text/plain": [
       "(24213, 12)"
      ]
     },
     "execution_count": 5,
     "metadata": {},
     "output_type": "execute_result"
    }
   ],
   "source": [
    "df.shape"
   ]
  },
  {
   "cell_type": "markdown",
   "id": "9d4e34a9",
   "metadata": {},
   "source": [
    "# Question 1"
   ]
  },
  {
   "cell_type": "code",
   "execution_count": 6,
   "id": "ea07953c",
   "metadata": {},
   "outputs": [
    {
     "data": {
      "text/plain": [
       "Claim_ID        5\n",
       "Policy_No       0\n",
       "Name            0\n",
       "Planned         0\n",
       "Actual       1677\n",
       "Created         0\n",
       "Amount          0\n",
       "Paid            0\n",
       "Category        0\n",
       "Terms           0\n",
       "Region          0\n",
       "Type            0\n",
       "dtype: int64"
      ]
     },
     "execution_count": 6,
     "metadata": {},
     "output_type": "execute_result"
    }
   ],
   "source": [
    "df.isnull().sum()"
   ]
  },
  {
   "cell_type": "code",
   "execution_count": 7,
   "id": "4368a1a4",
   "metadata": {},
   "outputs": [],
   "source": [
    "#Few columns are of no use for us lets just drop them\n",
    "df1 = df.drop(['Claim_ID', 'Policy_No', 'Created'], axis = 1, inplace=True)"
   ]
  },
  {
   "cell_type": "code",
   "execution_count": 8,
   "id": "a8aaf696",
   "metadata": {},
   "outputs": [
    {
     "data": {
      "text/plain": [
       "(24213, 9)"
      ]
     },
     "execution_count": 8,
     "metadata": {},
     "output_type": "execute_result"
    }
   ],
   "source": [
    "df.shape"
   ]
  },
  {
   "cell_type": "code",
   "execution_count": 9,
   "id": "cf4b1331",
   "metadata": {},
   "outputs": [
    {
     "data": {
      "text/html": [
       "<div>\n",
       "<style scoped>\n",
       "    .dataframe tbody tr th:only-of-type {\n",
       "        vertical-align: middle;\n",
       "    }\n",
       "\n",
       "    .dataframe tbody tr th {\n",
       "        vertical-align: top;\n",
       "    }\n",
       "\n",
       "    .dataframe thead th {\n",
       "        text-align: right;\n",
       "    }\n",
       "</style>\n",
       "<table border=\"1\" class=\"dataframe\">\n",
       "  <thead>\n",
       "    <tr style=\"text-align: right;\">\n",
       "      <th></th>\n",
       "      <th>Name</th>\n",
       "      <th>Planned</th>\n",
       "      <th>Actual</th>\n",
       "      <th>Amount</th>\n",
       "      <th>Paid</th>\n",
       "      <th>Category</th>\n",
       "      <th>Terms</th>\n",
       "      <th>Region</th>\n",
       "      <th>Type</th>\n",
       "    </tr>\n",
       "  </thead>\n",
       "  <tbody>\n",
       "    <tr>\n",
       "      <th>0</th>\n",
       "      <td>Roger Torres</td>\n",
       "      <td>17/1/2021</td>\n",
       "      <td>18/1/2021 0:00</td>\n",
       "      <td>3072.349</td>\n",
       "      <td>Yes</td>\n",
       "      <td>AT</td>\n",
       "      <td>AD23</td>\n",
       "      <td>LOC</td>\n",
       "      <td>L001</td>\n",
       "    </tr>\n",
       "    <tr>\n",
       "      <th>1</th>\n",
       "      <td>Jason Jones</td>\n",
       "      <td>5/2/2021</td>\n",
       "      <td>16/1/2021 0:00</td>\n",
       "      <td>910.944</td>\n",
       "      <td>Yes</td>\n",
       "      <td>AT</td>\n",
       "      <td>EC05</td>\n",
       "      <td>LOC</td>\n",
       "      <td>L001</td>\n",
       "    </tr>\n",
       "    <tr>\n",
       "      <th>2</th>\n",
       "      <td>Robert Martin</td>\n",
       "      <td>18/1/2021</td>\n",
       "      <td>14/1/2021 0:00</td>\n",
       "      <td>567.936</td>\n",
       "      <td>Yes</td>\n",
       "      <td>AT</td>\n",
       "      <td>AB27</td>\n",
       "      <td>LOC</td>\n",
       "      <td>L001</td>\n",
       "    </tr>\n",
       "    <tr>\n",
       "      <th>3</th>\n",
       "      <td>Stacy Anderson</td>\n",
       "      <td>15/1/2021</td>\n",
       "      <td>18/1/2021 0:00</td>\n",
       "      <td>181.651</td>\n",
       "      <td>Yes</td>\n",
       "      <td>AT</td>\n",
       "      <td>AE14</td>\n",
       "      <td>LOC</td>\n",
       "      <td>L001</td>\n",
       "    </tr>\n",
       "    <tr>\n",
       "      <th>4</th>\n",
       "      <td>Mr. Adam Whitaker III</td>\n",
       "      <td>5/2/2021</td>\n",
       "      <td>8/2/2021 0:00</td>\n",
       "      <td>238.74</td>\n",
       "      <td>Yes</td>\n",
       "      <td>AT</td>\n",
       "      <td>EC05</td>\n",
       "      <td>LOC</td>\n",
       "      <td>L001</td>\n",
       "    </tr>\n",
       "  </tbody>\n",
       "</table>\n",
       "</div>"
      ],
      "text/plain": [
       "                    Name    Planned          Actual    Amount Paid Category  \\\n",
       "0           Roger Torres  17/1/2021  18/1/2021 0:00  3072.349  Yes       AT   \n",
       "1            Jason Jones   5/2/2021  16/1/2021 0:00   910.944  Yes       AT   \n",
       "2          Robert Martin  18/1/2021  14/1/2021 0:00   567.936  Yes       AT   \n",
       "3         Stacy Anderson  15/1/2021  18/1/2021 0:00   181.651  Yes       AT   \n",
       "4  Mr. Adam Whitaker III   5/2/2021   8/2/2021 0:00    238.74  Yes       AT   \n",
       "\n",
       "  Terms Region  Type  \n",
       "0  AD23    LOC  L001  \n",
       "1  EC05    LOC  L001  \n",
       "2  AB27    LOC  L001  \n",
       "3  AE14    LOC  L001  \n",
       "4  EC05    LOC  L001  "
      ]
     },
     "execution_count": 9,
     "metadata": {},
     "output_type": "execute_result"
    }
   ],
   "source": [
    "df.head()"
   ]
  },
  {
   "cell_type": "code",
   "execution_count": 10,
   "id": "220ca8c5",
   "metadata": {},
   "outputs": [
    {
     "name": "stdout",
     "output_type": "stream",
     "text": [
      "Column Name: 0 'Unkn' values, 0 '???' values\n",
      "Column Planned: 0 'Unkn' values, 0 '???' values\n",
      "Column Actual: 0.0 'Unkn' values, 0.0 '???' values\n",
      "Column Amount: 0 'Unkn' values, 0 '???' values\n",
      "Column Paid: 0 'Unkn' values, 0 '???' values\n",
      "Column Category: 0 'Unkn' values, 0 '???' values\n",
      "Column Terms: 4 'Unkn' values, 3 '???' values\n",
      "Column Region: 0 'Unkn' values, 0 '???' values\n",
      "Column Type: 0 'Unkn' values, 0 '???' values\n"
     ]
    }
   ],
   "source": [
    "import re\n",
    "col_list = ['Name', 'Planned', 'Actual', 'Amount', 'Paid', 'Category', 'Terms', 'Region', 'Type']\n",
    "for col in col_list:\n",
    "    unkn_count = df[col].str.count(re.escape(\"Unkn\")).sum()\n",
    "    q_count = df[col].str.count(re.escape(\"???\")).sum()\n",
    "    print(f\"Column {col}: {unkn_count} 'Unkn' values, {q_count} '???' values\")"
   ]
  },
  {
   "cell_type": "markdown",
   "id": "cf1b7cf8",
   "metadata": {},
   "source": [
    "Out of all Columns only variable \"Terms\" has 4 \"Unkn\" and 3 \"???\" in the column."
   ]
  },
  {
   "cell_type": "markdown",
   "id": "d0cd7655",
   "metadata": {},
   "source": [
    "# Question 2"
   ]
  },
  {
   "cell_type": "code",
   "execution_count": 11,
   "id": "3aeb4c4d",
   "metadata": {},
   "outputs": [
    {
     "name": "stdout",
     "output_type": "stream",
     "text": [
      "Int64Index([2730, 2732, 3492, 6329], dtype='int64')\n"
     ]
    }
   ],
   "source": [
    "index_to_drop = df[df['Terms']=='Unkn'].index\n",
    "print(index_to_drop)"
   ]
  },
  {
   "cell_type": "code",
   "execution_count": 12,
   "id": "9bfcdbdf",
   "metadata": {},
   "outputs": [
    {
     "name": "stdout",
     "output_type": "stream",
     "text": [
      "Int64Index([2729, 2731, 6177], dtype='int64')\n"
     ]
    }
   ],
   "source": [
    "index_to_drop = df[df['Terms']=='???'].index\n",
    "print(index_to_drop)"
   ]
  },
  {
   "cell_type": "code",
   "execution_count": 13,
   "id": "943b47b6",
   "metadata": {},
   "outputs": [],
   "source": [
    "mode = df.Terms.mode()[0]\n",
    "df['Terms'] = df['Terms'].replace('Unkn', mode)\n",
    "df['Terms'] = df['Terms'].replace('???', mode)"
   ]
  },
  {
   "cell_type": "code",
   "execution_count": 14,
   "id": "33dcd3e9",
   "metadata": {},
   "outputs": [
    {
     "name": "stdout",
     "output_type": "stream",
     "text": [
      "Column Name: 0 'Unkn' values, 0 '???' values\n",
      "Column Planned: 0 'Unkn' values, 0 '???' values\n",
      "Column Actual: 0.0 'Unkn' values, 0.0 '???' values\n",
      "Column Amount: 0 'Unkn' values, 0 '???' values\n",
      "Column Paid: 0 'Unkn' values, 0 '???' values\n",
      "Column Category: 0 'Unkn' values, 0 '???' values\n",
      "Column Terms: 0 'Unkn' values, 0 '???' values\n",
      "Column Region: 0 'Unkn' values, 0 '???' values\n",
      "Column Type: 0 'Unkn' values, 0 '???' values\n"
     ]
    }
   ],
   "source": [
    "col_list = ['Name', 'Planned', 'Actual', 'Amount', 'Paid', 'Category', 'Terms', 'Region', 'Type']\n",
    "for col in col_list:\n",
    "    unkn_count = df[col].str.count(re.escape(\"Unkn\")).sum()\n",
    "    q_count = df[col].str.count(re.escape(\"???\")).sum()\n",
    "    print(f\"Column {col}: {unkn_count} 'Unkn' values, {q_count} '???' values\")"
   ]
  },
  {
   "cell_type": "markdown",
   "id": "7dee8e4c",
   "metadata": {},
   "source": [
    "We treated the missing values by replacing them with the mode of column. Since missing values were very less in number thats why replacing them with mode will not overfit, or underfit the processing."
   ]
  },
  {
   "cell_type": "markdown",
   "id": "52dcf1c5",
   "metadata": {},
   "source": [
    "# Question 3"
   ]
  },
  {
   "cell_type": "markdown",
   "id": "d7d7a085",
   "metadata": {},
   "source": [
    "First Data preparation task is to work with real null values other than Unkna and ??? in data set"
   ]
  },
  {
   "cell_type": "code",
   "execution_count": 15,
   "id": "70e8daf7",
   "metadata": {},
   "outputs": [
    {
     "data": {
      "text/plain": [
       "Name           0\n",
       "Planned        0\n",
       "Actual      1677\n",
       "Amount         0\n",
       "Paid           0\n",
       "Category       0\n",
       "Terms          0\n",
       "Region         0\n",
       "Type           0\n",
       "dtype: int64"
      ]
     },
     "execution_count": 15,
     "metadata": {},
     "output_type": "execute_result"
    }
   ],
   "source": [
    "df.isnull().sum()"
   ]
  },
  {
   "cell_type": "code",
   "execution_count": 16,
   "id": "6166afe0",
   "metadata": {},
   "outputs": [
    {
     "data": {
      "text/html": [
       "<div>\n",
       "<style scoped>\n",
       "    .dataframe tbody tr th:only-of-type {\n",
       "        vertical-align: middle;\n",
       "    }\n",
       "\n",
       "    .dataframe tbody tr th {\n",
       "        vertical-align: top;\n",
       "    }\n",
       "\n",
       "    .dataframe thead th {\n",
       "        text-align: right;\n",
       "    }\n",
       "</style>\n",
       "<table border=\"1\" class=\"dataframe\">\n",
       "  <thead>\n",
       "    <tr style=\"text-align: right;\">\n",
       "      <th></th>\n",
       "      <th>Name</th>\n",
       "      <th>Planned</th>\n",
       "      <th>Actual</th>\n",
       "      <th>Amount</th>\n",
       "      <th>Paid</th>\n",
       "      <th>Category</th>\n",
       "      <th>Terms</th>\n",
       "      <th>Region</th>\n",
       "      <th>Type</th>\n",
       "    </tr>\n",
       "  </thead>\n",
       "  <tbody>\n",
       "    <tr>\n",
       "      <th>24208</th>\n",
       "      <td>Daniel Davis</td>\n",
       "      <td>30/3/2021</td>\n",
       "      <td>27/12/2021 0:00</td>\n",
       "      <td>188.4</td>\n",
       "      <td>Yes</td>\n",
       "      <td>XT</td>\n",
       "      <td>CB91</td>\n",
       "      <td>FVS</td>\n",
       "      <td>O001</td>\n",
       "    </tr>\n",
       "    <tr>\n",
       "      <th>24209</th>\n",
       "      <td>Jennifer Thomas</td>\n",
       "      <td>18/3/2021</td>\n",
       "      <td>31/5/2021 0:00</td>\n",
       "      <td>460.8</td>\n",
       "      <td>Yes</td>\n",
       "      <td>XT</td>\n",
       "      <td>CB91</td>\n",
       "      <td>FVS</td>\n",
       "      <td>O001</td>\n",
       "    </tr>\n",
       "    <tr>\n",
       "      <th>24210</th>\n",
       "      <td>Amber Newton</td>\n",
       "      <td>21/3/2021</td>\n",
       "      <td>23/5/2021 0:00</td>\n",
       "      <td>120.735</td>\n",
       "      <td>Yes</td>\n",
       "      <td>XT</td>\n",
       "      <td>CB91</td>\n",
       "      <td>FVS</td>\n",
       "      <td>O001</td>\n",
       "    </tr>\n",
       "    <tr>\n",
       "      <th>24211</th>\n",
       "      <td>Marcus Hernandez</td>\n",
       "      <td>1/4/2021</td>\n",
       "      <td>22/5/2021 0:00</td>\n",
       "      <td>591.12</td>\n",
       "      <td>Yes</td>\n",
       "      <td>XT</td>\n",
       "      <td>CB91</td>\n",
       "      <td>FVS</td>\n",
       "      <td>O001</td>\n",
       "    </tr>\n",
       "    <tr>\n",
       "      <th>24212</th>\n",
       "      <td>James Fernandez</td>\n",
       "      <td>4/4/2021</td>\n",
       "      <td>8/5/2021 0:00</td>\n",
       "      <td>837</td>\n",
       "      <td>Yes</td>\n",
       "      <td>XT</td>\n",
       "      <td>CB91</td>\n",
       "      <td>FVS</td>\n",
       "      <td>O001</td>\n",
       "    </tr>\n",
       "  </tbody>\n",
       "</table>\n",
       "</div>"
      ],
      "text/plain": [
       "                   Name    Planned           Actual   Amount Paid Category  \\\n",
       "24208      Daniel Davis  30/3/2021  27/12/2021 0:00    188.4  Yes       XT   \n",
       "24209   Jennifer Thomas  18/3/2021   31/5/2021 0:00    460.8  Yes       XT   \n",
       "24210      Amber Newton  21/3/2021   23/5/2021 0:00  120.735  Yes       XT   \n",
       "24211  Marcus Hernandez   1/4/2021   22/5/2021 0:00   591.12  Yes       XT   \n",
       "24212   James Fernandez   4/4/2021    8/5/2021 0:00      837  Yes       XT   \n",
       "\n",
       "      Terms Region  Type  \n",
       "24208  CB91    FVS  O001  \n",
       "24209  CB91    FVS  O001  \n",
       "24210  CB91    FVS  O001  \n",
       "24211  CB91    FVS  O001  \n",
       "24212  CB91    FVS  O001  "
      ]
     },
     "execution_count": 16,
     "metadata": {},
     "output_type": "execute_result"
    }
   ],
   "source": [
    "df2 = df.dropna()\n",
    "df2.tail(5)"
   ]
  },
  {
   "cell_type": "code",
   "execution_count": 17,
   "id": "ff7abbb8",
   "metadata": {},
   "outputs": [
    {
     "data": {
      "text/plain": [
       "Name        0\n",
       "Planned     0\n",
       "Actual      0\n",
       "Amount      0\n",
       "Paid        0\n",
       "Category    0\n",
       "Terms       0\n",
       "Region      0\n",
       "Type        0\n",
       "dtype: int64"
      ]
     },
     "execution_count": 17,
     "metadata": {},
     "output_type": "execute_result"
    }
   ],
   "source": [
    "df2.isnull().sum()"
   ]
  },
  {
   "cell_type": "markdown",
   "id": "58c3abbd",
   "metadata": {},
   "source": [
    "Second preparation task is to work in Planned column since this will be our main focus for linear regression model"
   ]
  },
  {
   "cell_type": "code",
   "execution_count": 18,
   "id": "b7f8c4a8",
   "metadata": {},
   "outputs": [
    {
     "name": "stderr",
     "output_type": "stream",
     "text": [
      "C:\\Users\\usman jalil\\AppData\\Local\\Temp\\ipykernel_20344\\2836679641.py:1: SettingWithCopyWarning: \n",
      "A value is trying to be set on a copy of a slice from a DataFrame.\n",
      "Try using .loc[row_indexer,col_indexer] = value instead\n",
      "\n",
      "See the caveats in the documentation: https://pandas.pydata.org/pandas-docs/stable/user_guide/indexing.html#returning-a-view-versus-a-copy\n",
      "  df2['Planned day'] = df2['Planned'].apply(lambda x: x.split('/')[0])\n",
      "C:\\Users\\usman jalil\\AppData\\Local\\Temp\\ipykernel_20344\\2836679641.py:2: SettingWithCopyWarning: \n",
      "A value is trying to be set on a copy of a slice from a DataFrame.\n",
      "Try using .loc[row_indexer,col_indexer] = value instead\n",
      "\n",
      "See the caveats in the documentation: https://pandas.pydata.org/pandas-docs/stable/user_guide/indexing.html#returning-a-view-versus-a-copy\n",
      "  df2['Planned Month'] = df2['Planned'].apply(lambda x: x.split('/')[1])\n"
     ]
    }
   ],
   "source": [
    "df2['Planned day'] = df2['Planned'].apply(lambda x: x.split('/')[0])\n",
    "df2['Planned Month'] = df2['Planned'].apply(lambda x: x.split('/')[1])"
   ]
  },
  {
   "cell_type": "code",
   "execution_count": 19,
   "id": "7a85e4b3",
   "metadata": {},
   "outputs": [
    {
     "data": {
      "text/html": [
       "<div>\n",
       "<style scoped>\n",
       "    .dataframe tbody tr th:only-of-type {\n",
       "        vertical-align: middle;\n",
       "    }\n",
       "\n",
       "    .dataframe tbody tr th {\n",
       "        vertical-align: top;\n",
       "    }\n",
       "\n",
       "    .dataframe thead th {\n",
       "        text-align: right;\n",
       "    }\n",
       "</style>\n",
       "<table border=\"1\" class=\"dataframe\">\n",
       "  <thead>\n",
       "    <tr style=\"text-align: right;\">\n",
       "      <th></th>\n",
       "      <th>Name</th>\n",
       "      <th>Planned</th>\n",
       "      <th>Actual</th>\n",
       "      <th>Amount</th>\n",
       "      <th>Paid</th>\n",
       "      <th>Category</th>\n",
       "      <th>Terms</th>\n",
       "      <th>Region</th>\n",
       "      <th>Type</th>\n",
       "      <th>Planned day</th>\n",
       "      <th>Planned Month</th>\n",
       "    </tr>\n",
       "  </thead>\n",
       "  <tbody>\n",
       "    <tr>\n",
       "      <th>0</th>\n",
       "      <td>Roger Torres</td>\n",
       "      <td>17/1/2021</td>\n",
       "      <td>18/1/2021 0:00</td>\n",
       "      <td>3072.349</td>\n",
       "      <td>Yes</td>\n",
       "      <td>AT</td>\n",
       "      <td>AD23</td>\n",
       "      <td>LOC</td>\n",
       "      <td>L001</td>\n",
       "      <td>17</td>\n",
       "      <td>1</td>\n",
       "    </tr>\n",
       "    <tr>\n",
       "      <th>1</th>\n",
       "      <td>Jason Jones</td>\n",
       "      <td>5/2/2021</td>\n",
       "      <td>16/1/2021 0:00</td>\n",
       "      <td>910.944</td>\n",
       "      <td>Yes</td>\n",
       "      <td>AT</td>\n",
       "      <td>EC05</td>\n",
       "      <td>LOC</td>\n",
       "      <td>L001</td>\n",
       "      <td>5</td>\n",
       "      <td>2</td>\n",
       "    </tr>\n",
       "    <tr>\n",
       "      <th>2</th>\n",
       "      <td>Robert Martin</td>\n",
       "      <td>18/1/2021</td>\n",
       "      <td>14/1/2021 0:00</td>\n",
       "      <td>567.936</td>\n",
       "      <td>Yes</td>\n",
       "      <td>AT</td>\n",
       "      <td>AB27</td>\n",
       "      <td>LOC</td>\n",
       "      <td>L001</td>\n",
       "      <td>18</td>\n",
       "      <td>1</td>\n",
       "    </tr>\n",
       "    <tr>\n",
       "      <th>3</th>\n",
       "      <td>Stacy Anderson</td>\n",
       "      <td>15/1/2021</td>\n",
       "      <td>18/1/2021 0:00</td>\n",
       "      <td>181.651</td>\n",
       "      <td>Yes</td>\n",
       "      <td>AT</td>\n",
       "      <td>AE14</td>\n",
       "      <td>LOC</td>\n",
       "      <td>L001</td>\n",
       "      <td>15</td>\n",
       "      <td>1</td>\n",
       "    </tr>\n",
       "    <tr>\n",
       "      <th>4</th>\n",
       "      <td>Mr. Adam Whitaker III</td>\n",
       "      <td>5/2/2021</td>\n",
       "      <td>8/2/2021 0:00</td>\n",
       "      <td>238.74</td>\n",
       "      <td>Yes</td>\n",
       "      <td>AT</td>\n",
       "      <td>EC05</td>\n",
       "      <td>LOC</td>\n",
       "      <td>L001</td>\n",
       "      <td>5</td>\n",
       "      <td>2</td>\n",
       "    </tr>\n",
       "  </tbody>\n",
       "</table>\n",
       "</div>"
      ],
      "text/plain": [
       "                    Name    Planned          Actual    Amount Paid Category  \\\n",
       "0           Roger Torres  17/1/2021  18/1/2021 0:00  3072.349  Yes       AT   \n",
       "1            Jason Jones   5/2/2021  16/1/2021 0:00   910.944  Yes       AT   \n",
       "2          Robert Martin  18/1/2021  14/1/2021 0:00   567.936  Yes       AT   \n",
       "3         Stacy Anderson  15/1/2021  18/1/2021 0:00   181.651  Yes       AT   \n",
       "4  Mr. Adam Whitaker III   5/2/2021   8/2/2021 0:00    238.74  Yes       AT   \n",
       "\n",
       "  Terms Region  Type Planned day Planned Month  \n",
       "0  AD23    LOC  L001          17             1  \n",
       "1  EC05    LOC  L001           5             2  \n",
       "2  AB27    LOC  L001          18             1  \n",
       "3  AE14    LOC  L001          15             1  \n",
       "4  EC05    LOC  L001           5             2  "
      ]
     },
     "execution_count": 19,
     "metadata": {},
     "output_type": "execute_result"
    }
   ],
   "source": [
    "df2.head(5)"
   ]
  },
  {
   "cell_type": "markdown",
   "id": "a116c50f",
   "metadata": {},
   "source": [
    "From the planned column we observed that all the dates belong to year 2021 so there is no point working on this we are more interested in date and month thats why we extracted them separately."
   ]
  },
  {
   "cell_type": "markdown",
   "id": "2b6e0a2e",
   "metadata": {},
   "source": [
    "Third preparation task is to work in Actual column since this will also be our main focus for linear regression model"
   ]
  },
  {
   "cell_type": "code",
   "execution_count": 20,
   "id": "04532831",
   "metadata": {},
   "outputs": [
    {
     "name": "stderr",
     "output_type": "stream",
     "text": [
      "C:\\Users\\usman jalil\\AppData\\Local\\Temp\\ipykernel_20344\\2764660008.py:1: SettingWithCopyWarning: \n",
      "A value is trying to be set on a copy of a slice from a DataFrame.\n",
      "Try using .loc[row_indexer,col_indexer] = value instead\n",
      "\n",
      "See the caveats in the documentation: https://pandas.pydata.org/pandas-docs/stable/user_guide/indexing.html#returning-a-view-versus-a-copy\n",
      "  df2['Actual Day'] = df2['Actual'].apply(lambda x: x.split('/')[0])\n",
      "C:\\Users\\usman jalil\\AppData\\Local\\Temp\\ipykernel_20344\\2764660008.py:2: SettingWithCopyWarning: \n",
      "A value is trying to be set on a copy of a slice from a DataFrame.\n",
      "Try using .loc[row_indexer,col_indexer] = value instead\n",
      "\n",
      "See the caveats in the documentation: https://pandas.pydata.org/pandas-docs/stable/user_guide/indexing.html#returning-a-view-versus-a-copy\n",
      "  df2['Actual Month'] = df2['Actual'].apply(lambda x: x.split('/')[1])\n"
     ]
    }
   ],
   "source": [
    "df2['Actual Day'] = df2['Actual'].apply(lambda x: x.split('/')[0])\n",
    "df2['Actual Month'] = df2['Actual'].apply(lambda x: x.split('/')[1])"
   ]
  },
  {
   "cell_type": "code",
   "execution_count": 21,
   "id": "ce6eb3ae",
   "metadata": {},
   "outputs": [
    {
     "data": {
      "text/html": [
       "<div>\n",
       "<style scoped>\n",
       "    .dataframe tbody tr th:only-of-type {\n",
       "        vertical-align: middle;\n",
       "    }\n",
       "\n",
       "    .dataframe tbody tr th {\n",
       "        vertical-align: top;\n",
       "    }\n",
       "\n",
       "    .dataframe thead th {\n",
       "        text-align: right;\n",
       "    }\n",
       "</style>\n",
       "<table border=\"1\" class=\"dataframe\">\n",
       "  <thead>\n",
       "    <tr style=\"text-align: right;\">\n",
       "      <th></th>\n",
       "      <th>Name</th>\n",
       "      <th>Planned</th>\n",
       "      <th>Actual</th>\n",
       "      <th>Amount</th>\n",
       "      <th>Paid</th>\n",
       "      <th>Category</th>\n",
       "      <th>Terms</th>\n",
       "      <th>Region</th>\n",
       "      <th>Type</th>\n",
       "      <th>Planned day</th>\n",
       "      <th>Planned Month</th>\n",
       "      <th>Actual Day</th>\n",
       "      <th>Actual Month</th>\n",
       "    </tr>\n",
       "  </thead>\n",
       "  <tbody>\n",
       "    <tr>\n",
       "      <th>0</th>\n",
       "      <td>Roger Torres</td>\n",
       "      <td>17/1/2021</td>\n",
       "      <td>18/1/2021 0:00</td>\n",
       "      <td>3072.349</td>\n",
       "      <td>Yes</td>\n",
       "      <td>AT</td>\n",
       "      <td>AD23</td>\n",
       "      <td>LOC</td>\n",
       "      <td>L001</td>\n",
       "      <td>17</td>\n",
       "      <td>1</td>\n",
       "      <td>18</td>\n",
       "      <td>1</td>\n",
       "    </tr>\n",
       "    <tr>\n",
       "      <th>1</th>\n",
       "      <td>Jason Jones</td>\n",
       "      <td>5/2/2021</td>\n",
       "      <td>16/1/2021 0:00</td>\n",
       "      <td>910.944</td>\n",
       "      <td>Yes</td>\n",
       "      <td>AT</td>\n",
       "      <td>EC05</td>\n",
       "      <td>LOC</td>\n",
       "      <td>L001</td>\n",
       "      <td>5</td>\n",
       "      <td>2</td>\n",
       "      <td>16</td>\n",
       "      <td>1</td>\n",
       "    </tr>\n",
       "    <tr>\n",
       "      <th>2</th>\n",
       "      <td>Robert Martin</td>\n",
       "      <td>18/1/2021</td>\n",
       "      <td>14/1/2021 0:00</td>\n",
       "      <td>567.936</td>\n",
       "      <td>Yes</td>\n",
       "      <td>AT</td>\n",
       "      <td>AB27</td>\n",
       "      <td>LOC</td>\n",
       "      <td>L001</td>\n",
       "      <td>18</td>\n",
       "      <td>1</td>\n",
       "      <td>14</td>\n",
       "      <td>1</td>\n",
       "    </tr>\n",
       "    <tr>\n",
       "      <th>3</th>\n",
       "      <td>Stacy Anderson</td>\n",
       "      <td>15/1/2021</td>\n",
       "      <td>18/1/2021 0:00</td>\n",
       "      <td>181.651</td>\n",
       "      <td>Yes</td>\n",
       "      <td>AT</td>\n",
       "      <td>AE14</td>\n",
       "      <td>LOC</td>\n",
       "      <td>L001</td>\n",
       "      <td>15</td>\n",
       "      <td>1</td>\n",
       "      <td>18</td>\n",
       "      <td>1</td>\n",
       "    </tr>\n",
       "    <tr>\n",
       "      <th>4</th>\n",
       "      <td>Mr. Adam Whitaker III</td>\n",
       "      <td>5/2/2021</td>\n",
       "      <td>8/2/2021 0:00</td>\n",
       "      <td>238.74</td>\n",
       "      <td>Yes</td>\n",
       "      <td>AT</td>\n",
       "      <td>EC05</td>\n",
       "      <td>LOC</td>\n",
       "      <td>L001</td>\n",
       "      <td>5</td>\n",
       "      <td>2</td>\n",
       "      <td>8</td>\n",
       "      <td>2</td>\n",
       "    </tr>\n",
       "  </tbody>\n",
       "</table>\n",
       "</div>"
      ],
      "text/plain": [
       "                    Name    Planned          Actual    Amount Paid Category  \\\n",
       "0           Roger Torres  17/1/2021  18/1/2021 0:00  3072.349  Yes       AT   \n",
       "1            Jason Jones   5/2/2021  16/1/2021 0:00   910.944  Yes       AT   \n",
       "2          Robert Martin  18/1/2021  14/1/2021 0:00   567.936  Yes       AT   \n",
       "3         Stacy Anderson  15/1/2021  18/1/2021 0:00   181.651  Yes       AT   \n",
       "4  Mr. Adam Whitaker III   5/2/2021   8/2/2021 0:00    238.74  Yes       AT   \n",
       "\n",
       "  Terms Region  Type Planned day Planned Month Actual Day Actual Month  \n",
       "0  AD23    LOC  L001          17             1         18            1  \n",
       "1  EC05    LOC  L001           5             2         16            1  \n",
       "2  AB27    LOC  L001          18             1         14            1  \n",
       "3  AE14    LOC  L001          15             1         18            1  \n",
       "4  EC05    LOC  L001           5             2          8            2  "
      ]
     },
     "execution_count": 21,
     "metadata": {},
     "output_type": "execute_result"
    }
   ],
   "source": [
    "df2.head(5)"
   ]
  },
  {
   "cell_type": "markdown",
   "id": "76e60a65",
   "metadata": {},
   "source": [
    "Now we will drop the Planned and Actual date column because they are no use for us now."
   ]
  },
  {
   "cell_type": "code",
   "execution_count": 22,
   "id": "7248114b",
   "metadata": {},
   "outputs": [],
   "source": [
    "df3 = df2.drop(['Planned', 'Actual'], axis = 1)"
   ]
  },
  {
   "cell_type": "code",
   "execution_count": 23,
   "id": "3ae5b9b1",
   "metadata": {},
   "outputs": [
    {
     "data": {
      "text/html": [
       "<div>\n",
       "<style scoped>\n",
       "    .dataframe tbody tr th:only-of-type {\n",
       "        vertical-align: middle;\n",
       "    }\n",
       "\n",
       "    .dataframe tbody tr th {\n",
       "        vertical-align: top;\n",
       "    }\n",
       "\n",
       "    .dataframe thead th {\n",
       "        text-align: right;\n",
       "    }\n",
       "</style>\n",
       "<table border=\"1\" class=\"dataframe\">\n",
       "  <thead>\n",
       "    <tr style=\"text-align: right;\">\n",
       "      <th></th>\n",
       "      <th>Name</th>\n",
       "      <th>Amount</th>\n",
       "      <th>Paid</th>\n",
       "      <th>Category</th>\n",
       "      <th>Terms</th>\n",
       "      <th>Region</th>\n",
       "      <th>Type</th>\n",
       "      <th>Planned day</th>\n",
       "      <th>Planned Month</th>\n",
       "      <th>Actual Day</th>\n",
       "      <th>Actual Month</th>\n",
       "    </tr>\n",
       "  </thead>\n",
       "  <tbody>\n",
       "    <tr>\n",
       "      <th>0</th>\n",
       "      <td>Roger Torres</td>\n",
       "      <td>3072.349</td>\n",
       "      <td>Yes</td>\n",
       "      <td>AT</td>\n",
       "      <td>AD23</td>\n",
       "      <td>LOC</td>\n",
       "      <td>L001</td>\n",
       "      <td>17</td>\n",
       "      <td>1</td>\n",
       "      <td>18</td>\n",
       "      <td>1</td>\n",
       "    </tr>\n",
       "    <tr>\n",
       "      <th>1</th>\n",
       "      <td>Jason Jones</td>\n",
       "      <td>910.944</td>\n",
       "      <td>Yes</td>\n",
       "      <td>AT</td>\n",
       "      <td>EC05</td>\n",
       "      <td>LOC</td>\n",
       "      <td>L001</td>\n",
       "      <td>5</td>\n",
       "      <td>2</td>\n",
       "      <td>16</td>\n",
       "      <td>1</td>\n",
       "    </tr>\n",
       "    <tr>\n",
       "      <th>2</th>\n",
       "      <td>Robert Martin</td>\n",
       "      <td>567.936</td>\n",
       "      <td>Yes</td>\n",
       "      <td>AT</td>\n",
       "      <td>AB27</td>\n",
       "      <td>LOC</td>\n",
       "      <td>L001</td>\n",
       "      <td>18</td>\n",
       "      <td>1</td>\n",
       "      <td>14</td>\n",
       "      <td>1</td>\n",
       "    </tr>\n",
       "    <tr>\n",
       "      <th>3</th>\n",
       "      <td>Stacy Anderson</td>\n",
       "      <td>181.651</td>\n",
       "      <td>Yes</td>\n",
       "      <td>AT</td>\n",
       "      <td>AE14</td>\n",
       "      <td>LOC</td>\n",
       "      <td>L001</td>\n",
       "      <td>15</td>\n",
       "      <td>1</td>\n",
       "      <td>18</td>\n",
       "      <td>1</td>\n",
       "    </tr>\n",
       "    <tr>\n",
       "      <th>4</th>\n",
       "      <td>Mr. Adam Whitaker III</td>\n",
       "      <td>238.74</td>\n",
       "      <td>Yes</td>\n",
       "      <td>AT</td>\n",
       "      <td>EC05</td>\n",
       "      <td>LOC</td>\n",
       "      <td>L001</td>\n",
       "      <td>5</td>\n",
       "      <td>2</td>\n",
       "      <td>8</td>\n",
       "      <td>2</td>\n",
       "    </tr>\n",
       "  </tbody>\n",
       "</table>\n",
       "</div>"
      ],
      "text/plain": [
       "                    Name    Amount Paid Category Terms Region  Type  \\\n",
       "0           Roger Torres  3072.349  Yes       AT  AD23    LOC  L001   \n",
       "1            Jason Jones   910.944  Yes       AT  EC05    LOC  L001   \n",
       "2          Robert Martin   567.936  Yes       AT  AB27    LOC  L001   \n",
       "3         Stacy Anderson   181.651  Yes       AT  AE14    LOC  L001   \n",
       "4  Mr. Adam Whitaker III    238.74  Yes       AT  EC05    LOC  L001   \n",
       "\n",
       "  Planned day Planned Month Actual Day Actual Month  \n",
       "0          17             1         18            1  \n",
       "1           5             2         16            1  \n",
       "2          18             1         14            1  \n",
       "3          15             1         18            1  \n",
       "4           5             2          8            2  "
      ]
     },
     "execution_count": 23,
     "metadata": {},
     "output_type": "execute_result"
    }
   ],
   "source": [
    "df3.head(5)"
   ]
  },
  {
   "cell_type": "markdown",
   "id": "1a333b89",
   "metadata": {},
   "source": [
    "# Question 4"
   ]
  },
  {
   "cell_type": "code",
   "execution_count": 24,
   "id": "e6182cca",
   "metadata": {},
   "outputs": [
    {
     "data": {
      "text/plain": [
       "Index(['Name', 'Amount', 'Paid', 'Category', 'Terms', 'Region', 'Type',\n",
       "       'Planned day', 'Planned Month', 'Actual Day', 'Actual Month'],\n",
       "      dtype='object')"
      ]
     },
     "execution_count": 24,
     "metadata": {},
     "output_type": "execute_result"
    }
   ],
   "source": [
    "df3.columns"
   ]
  },
  {
   "cell_type": "code",
   "execution_count": 25,
   "id": "da394159",
   "metadata": {},
   "outputs": [
    {
     "name": "stdout",
     "output_type": "stream",
     "text": [
      "Category\n",
      "AT    9993.246\n",
      "XT         837\n",
      "Name: Amount, dtype: object\n"
     ]
    },
    {
     "data": {
      "image/png": "[encoded data removed]",
      "text/plain": [
       "<Figure size 432x288 with 1 Axes>"
      ]
     },
     "metadata": {
      "needs_background": "light"
     },
     "output_type": "display_data"
    }
   ],
   "source": [
    "# Group the data by category and calculate the mean amount spent in each category\n",
    "avg_spending_per_category = df3.groupby('Category')['Amount'].max()\n",
    "\n",
    "# Print the result\n",
    "print(avg_spending_per_category)\n",
    "\n",
    "plt.bar(avg_spending_per_category.values, avg_spending_per_category.index)\n",
    "plt.title('Average Spending per Category')\n",
    "plt.xlabel('Category')\n",
    "plt.ylabel('Average Amount Spent')\n",
    "plt.show()"
   ]
  },
  {
   "cell_type": "code",
   "execution_count": 26,
   "id": "e11df2b6",
   "metadata": {},
   "outputs": [
    {
     "name": "stdout",
     "output_type": "stream",
     "text": [
      "Planned Month\n",
      "1      996.226\n",
      "10    9993.246\n",
      "11      999.24\n",
      "12     999.772\n",
      "2      998.553\n",
      "3      999.093\n",
      "4     9972.151\n",
      "5     9986.688\n",
      "6      9987.16\n",
      "7      999.063\n",
      "8     9980.525\n",
      "9      999.011\n",
      "Name: Amount, dtype: object\n"
     ]
    },
    {
     "data": {
      "image/png": "[encoded data removed]",
      "text/plain": [
       "<Figure size 432x288 with 1 Axes>"
      ]
     },
     "metadata": {
      "needs_background": "light"
     },
     "output_type": "display_data"
    }
   ],
   "source": [
    "# Group the data by category and calculate the mean amount spent in each category\n",
    "avg_spending_per_category = df3.groupby('Planned Month')['Amount'].max()\n",
    "\n",
    "# Print the result\n",
    "print(avg_spending_per_category)\n",
    "\n",
    "plt.bar(avg_spending_per_category.index, avg_spending_per_category.values)\n",
    "plt.title('Average Spending per Month')\n",
    "plt.xlabel('Planned Month')\n",
    "plt.ylabel('Average Spending per Month')\n",
    "plt.show()"
   ]
  },
  {
   "cell_type": "code",
   "execution_count": 27,
   "id": "b3c60886",
   "metadata": {},
   "outputs": [
    {
     "data": {
      "image/png": "[encoded data removed]",
      "text/plain": [
       "<Figure size 432x288 with 1 Axes>"
      ]
     },
     "metadata": {
      "needs_background": "light"
     },
     "output_type": "display_data"
    }
   ],
   "source": [
    "df4 = df3.copy()\n",
    "df_subset = df4.head(100)\n",
    "\n",
    "# Create a list of colors for the planned and actual days\n",
    "planned_day_color = 'blue'\n",
    "actual_day_color = 'orange'\n",
    "colors = [planned_day_color if d == 'Planned day' else actual_day_color for d in df_subset['Actual Day']]\n",
    "\n",
    "# Plot the scatter plot\n",
    "plt.scatter(df_subset['Planned day'], df_subset['Actual Day'], c=colors)\n",
    "plt.title('Planned vs. Actual Day')\n",
    "plt.xlabel('Planned Day')\n",
    "plt.ylabel('Actual Day')\n",
    "plt.show()"
   ]
  },
  {
   "cell_type": "markdown",
   "id": "60b77b93",
   "metadata": {},
   "source": [
    "# Question 5"
   ]
  },
  {
   "cell_type": "code",
   "execution_count": 28,
   "id": "459e4cbb",
   "metadata": {},
   "outputs": [
    {
     "data": {
      "text/html": [
       "<div>\n",
       "<style scoped>\n",
       "    .dataframe tbody tr th:only-of-type {\n",
       "        vertical-align: middle;\n",
       "    }\n",
       "\n",
       "    .dataframe tbody tr th {\n",
       "        vertical-align: top;\n",
       "    }\n",
       "\n",
       "    .dataframe thead th {\n",
       "        text-align: right;\n",
       "    }\n",
       "</style>\n",
       "<table border=\"1\" class=\"dataframe\">\n",
       "  <thead>\n",
       "    <tr style=\"text-align: right;\">\n",
       "      <th></th>\n",
       "      <th>Name</th>\n",
       "      <th>Amount</th>\n",
       "      <th>Paid</th>\n",
       "      <th>Category</th>\n",
       "      <th>Terms</th>\n",
       "      <th>Region</th>\n",
       "      <th>Type</th>\n",
       "      <th>Planned day</th>\n",
       "      <th>Planned Month</th>\n",
       "      <th>Actual Day</th>\n",
       "      <th>Actual Month</th>\n",
       "    </tr>\n",
       "  </thead>\n",
       "  <tbody>\n",
       "    <tr>\n",
       "      <th>0</th>\n",
       "      <td>Roger Torres</td>\n",
       "      <td>3072.349</td>\n",
       "      <td>Yes</td>\n",
       "      <td>AT</td>\n",
       "      <td>AD23</td>\n",
       "      <td>LOC</td>\n",
       "      <td>L001</td>\n",
       "      <td>17</td>\n",
       "      <td>1</td>\n",
       "      <td>18</td>\n",
       "      <td>1</td>\n",
       "    </tr>\n",
       "    <tr>\n",
       "      <th>1</th>\n",
       "      <td>Jason Jones</td>\n",
       "      <td>910.944</td>\n",
       "      <td>Yes</td>\n",
       "      <td>AT</td>\n",
       "      <td>EC05</td>\n",
       "      <td>LOC</td>\n",
       "      <td>L001</td>\n",
       "      <td>5</td>\n",
       "      <td>2</td>\n",
       "      <td>16</td>\n",
       "      <td>1</td>\n",
       "    </tr>\n",
       "    <tr>\n",
       "      <th>2</th>\n",
       "      <td>Robert Martin</td>\n",
       "      <td>567.936</td>\n",
       "      <td>Yes</td>\n",
       "      <td>AT</td>\n",
       "      <td>AB27</td>\n",
       "      <td>LOC</td>\n",
       "      <td>L001</td>\n",
       "      <td>18</td>\n",
       "      <td>1</td>\n",
       "      <td>14</td>\n",
       "      <td>1</td>\n",
       "    </tr>\n",
       "    <tr>\n",
       "      <th>3</th>\n",
       "      <td>Stacy Anderson</td>\n",
       "      <td>181.651</td>\n",
       "      <td>Yes</td>\n",
       "      <td>AT</td>\n",
       "      <td>AE14</td>\n",
       "      <td>LOC</td>\n",
       "      <td>L001</td>\n",
       "      <td>15</td>\n",
       "      <td>1</td>\n",
       "      <td>18</td>\n",
       "      <td>1</td>\n",
       "    </tr>\n",
       "    <tr>\n",
       "      <th>4</th>\n",
       "      <td>Mr. Adam Whitaker III</td>\n",
       "      <td>238.74</td>\n",
       "      <td>Yes</td>\n",
       "      <td>AT</td>\n",
       "      <td>EC05</td>\n",
       "      <td>LOC</td>\n",
       "      <td>L001</td>\n",
       "      <td>5</td>\n",
       "      <td>2</td>\n",
       "      <td>8</td>\n",
       "      <td>2</td>\n",
       "    </tr>\n",
       "  </tbody>\n",
       "</table>\n",
       "</div>"
      ],
      "text/plain": [
       "                    Name    Amount Paid Category Terms Region  Type  \\\n",
       "0           Roger Torres  3072.349  Yes       AT  AD23    LOC  L001   \n",
       "1            Jason Jones   910.944  Yes       AT  EC05    LOC  L001   \n",
       "2          Robert Martin   567.936  Yes       AT  AB27    LOC  L001   \n",
       "3         Stacy Anderson   181.651  Yes       AT  AE14    LOC  L001   \n",
       "4  Mr. Adam Whitaker III    238.74  Yes       AT  EC05    LOC  L001   \n",
       "\n",
       "  Planned day Planned Month Actual Day Actual Month  \n",
       "0          17             1         18            1  \n",
       "1           5             2         16            1  \n",
       "2          18             1         14            1  \n",
       "3          15             1         18            1  \n",
       "4           5             2          8            2  "
      ]
     },
     "execution_count": 28,
     "metadata": {},
     "output_type": "execute_result"
    }
   ],
   "source": [
    "df3.head()"
   ]
  },
  {
   "cell_type": "code",
   "execution_count": 29,
   "id": "21530309",
   "metadata": {},
   "outputs": [],
   "source": [
    "df3['Planned day'] = pd.to_numeric(df3['Planned day'])\n",
    "df3['Actual Day'] = pd.to_numeric(df3['Actual Day'])"
   ]
  },
  {
   "cell_type": "code",
   "execution_count": 30,
   "id": "ea6a7b2a",
   "metadata": {},
   "outputs": [],
   "source": [
    "df3['Delay'] = abs((df3['Actual Day'] - df3['Planned day']))"
   ]
  },
  {
   "cell_type": "code",
   "execution_count": 31,
   "id": "0f76262b",
   "metadata": {},
   "outputs": [
    {
     "data": {
      "text/html": [
       "<div>\n",
       "<style scoped>\n",
       "    .dataframe tbody tr th:only-of-type {\n",
       "        vertical-align: middle;\n",
       "    }\n",
       "\n",
       "    .dataframe tbody tr th {\n",
       "        vertical-align: top;\n",
       "    }\n",
       "\n",
       "    .dataframe thead th {\n",
       "        text-align: right;\n",
       "    }\n",
       "</style>\n",
       "<table border=\"1\" class=\"dataframe\">\n",
       "  <thead>\n",
       "    <tr style=\"text-align: right;\">\n",
       "      <th></th>\n",
       "      <th>Name</th>\n",
       "      <th>Amount</th>\n",
       "      <th>Paid</th>\n",
       "      <th>Category</th>\n",
       "      <th>Terms</th>\n",
       "      <th>Region</th>\n",
       "      <th>Type</th>\n",
       "      <th>Planned day</th>\n",
       "      <th>Planned Month</th>\n",
       "      <th>Actual Day</th>\n",
       "      <th>Actual Month</th>\n",
       "      <th>Delay</th>\n",
       "    </tr>\n",
       "  </thead>\n",
       "  <tbody>\n",
       "    <tr>\n",
       "      <th>0</th>\n",
       "      <td>Roger Torres</td>\n",
       "      <td>3072.349</td>\n",
       "      <td>Yes</td>\n",
       "      <td>AT</td>\n",
       "      <td>AD23</td>\n",
       "      <td>LOC</td>\n",
       "      <td>L001</td>\n",
       "      <td>17</td>\n",
       "      <td>1</td>\n",
       "      <td>18</td>\n",
       "      <td>1</td>\n",
       "      <td>1</td>\n",
       "    </tr>\n",
       "    <tr>\n",
       "      <th>1</th>\n",
       "      <td>Jason Jones</td>\n",
       "      <td>910.944</td>\n",
       "      <td>Yes</td>\n",
       "      <td>AT</td>\n",
       "      <td>EC05</td>\n",
       "      <td>LOC</td>\n",
       "      <td>L001</td>\n",
       "      <td>5</td>\n",
       "      <td>2</td>\n",
       "      <td>16</td>\n",
       "      <td>1</td>\n",
       "      <td>11</td>\n",
       "    </tr>\n",
       "    <tr>\n",
       "      <th>2</th>\n",
       "      <td>Robert Martin</td>\n",
       "      <td>567.936</td>\n",
       "      <td>Yes</td>\n",
       "      <td>AT</td>\n",
       "      <td>AB27</td>\n",
       "      <td>LOC</td>\n",
       "      <td>L001</td>\n",
       "      <td>18</td>\n",
       "      <td>1</td>\n",
       "      <td>14</td>\n",
       "      <td>1</td>\n",
       "      <td>4</td>\n",
       "    </tr>\n",
       "    <tr>\n",
       "      <th>3</th>\n",
       "      <td>Stacy Anderson</td>\n",
       "      <td>181.651</td>\n",
       "      <td>Yes</td>\n",
       "      <td>AT</td>\n",
       "      <td>AE14</td>\n",
       "      <td>LOC</td>\n",
       "      <td>L001</td>\n",
       "      <td>15</td>\n",
       "      <td>1</td>\n",
       "      <td>18</td>\n",
       "      <td>1</td>\n",
       "      <td>3</td>\n",
       "    </tr>\n",
       "    <tr>\n",
       "      <th>4</th>\n",
       "      <td>Mr. Adam Whitaker III</td>\n",
       "      <td>238.74</td>\n",
       "      <td>Yes</td>\n",
       "      <td>AT</td>\n",
       "      <td>EC05</td>\n",
       "      <td>LOC</td>\n",
       "      <td>L001</td>\n",
       "      <td>5</td>\n",
       "      <td>2</td>\n",
       "      <td>8</td>\n",
       "      <td>2</td>\n",
       "      <td>3</td>\n",
       "    </tr>\n",
       "    <tr>\n",
       "      <th>...</th>\n",
       "      <td>...</td>\n",
       "      <td>...</td>\n",
       "      <td>...</td>\n",
       "      <td>...</td>\n",
       "      <td>...</td>\n",
       "      <td>...</td>\n",
       "      <td>...</td>\n",
       "      <td>...</td>\n",
       "      <td>...</td>\n",
       "      <td>...</td>\n",
       "      <td>...</td>\n",
       "      <td>...</td>\n",
       "    </tr>\n",
       "    <tr>\n",
       "      <th>24208</th>\n",
       "      <td>Daniel Davis</td>\n",
       "      <td>188.4</td>\n",
       "      <td>Yes</td>\n",
       "      <td>XT</td>\n",
       "      <td>CB91</td>\n",
       "      <td>FVS</td>\n",
       "      <td>O001</td>\n",
       "      <td>30</td>\n",
       "      <td>3</td>\n",
       "      <td>27</td>\n",
       "      <td>12</td>\n",
       "      <td>3</td>\n",
       "    </tr>\n",
       "    <tr>\n",
       "      <th>24209</th>\n",
       "      <td>Jennifer Thomas</td>\n",
       "      <td>460.8</td>\n",
       "      <td>Yes</td>\n",
       "      <td>XT</td>\n",
       "      <td>CB91</td>\n",
       "      <td>FVS</td>\n",
       "      <td>O001</td>\n",
       "      <td>18</td>\n",
       "      <td>3</td>\n",
       "      <td>31</td>\n",
       "      <td>5</td>\n",
       "      <td>13</td>\n",
       "    </tr>\n",
       "    <tr>\n",
       "      <th>24210</th>\n",
       "      <td>Amber Newton</td>\n",
       "      <td>120.735</td>\n",
       "      <td>Yes</td>\n",
       "      <td>XT</td>\n",
       "      <td>CB91</td>\n",
       "      <td>FVS</td>\n",
       "      <td>O001</td>\n",
       "      <td>21</td>\n",
       "      <td>3</td>\n",
       "      <td>23</td>\n",
       "      <td>5</td>\n",
       "      <td>2</td>\n",
       "    </tr>\n",
       "    <tr>\n",
       "      <th>24211</th>\n",
       "      <td>Marcus Hernandez</td>\n",
       "      <td>591.12</td>\n",
       "      <td>Yes</td>\n",
       "      <td>XT</td>\n",
       "      <td>CB91</td>\n",
       "      <td>FVS</td>\n",
       "      <td>O001</td>\n",
       "      <td>1</td>\n",
       "      <td>4</td>\n",
       "      <td>22</td>\n",
       "      <td>5</td>\n",
       "      <td>21</td>\n",
       "    </tr>\n",
       "    <tr>\n",
       "      <th>24212</th>\n",
       "      <td>James Fernandez</td>\n",
       "      <td>837</td>\n",
       "      <td>Yes</td>\n",
       "      <td>XT</td>\n",
       "      <td>CB91</td>\n",
       "      <td>FVS</td>\n",
       "      <td>O001</td>\n",
       "      <td>4</td>\n",
       "      <td>4</td>\n",
       "      <td>8</td>\n",
       "      <td>5</td>\n",
       "      <td>4</td>\n",
       "    </tr>\n",
       "  </tbody>\n",
       "</table>\n",
       "<p>22536 rows × 12 columns</p>\n",
       "</div>"
      ],
      "text/plain": [
       "                        Name    Amount Paid Category Terms Region  Type  \\\n",
       "0               Roger Torres  3072.349  Yes       AT  AD23    LOC  L001   \n",
       "1                Jason Jones   910.944  Yes       AT  EC05    LOC  L001   \n",
       "2              Robert Martin   567.936  Yes       AT  AB27    LOC  L001   \n",
       "3             Stacy Anderson   181.651  Yes       AT  AE14    LOC  L001   \n",
       "4      Mr. Adam Whitaker III    238.74  Yes       AT  EC05    LOC  L001   \n",
       "...                      ...       ...  ...      ...   ...    ...   ...   \n",
       "24208           Daniel Davis     188.4  Yes       XT  CB91    FVS  O001   \n",
       "24209        Jennifer Thomas     460.8  Yes       XT  CB91    FVS  O001   \n",
       "24210           Amber Newton   120.735  Yes       XT  CB91    FVS  O001   \n",
       "24211       Marcus Hernandez    591.12  Yes       XT  CB91    FVS  O001   \n",
       "24212        James Fernandez       837  Yes       XT  CB91    FVS  O001   \n",
       "\n",
       "       Planned day Planned Month  Actual Day Actual Month  Delay  \n",
       "0               17             1          18            1      1  \n",
       "1                5             2          16            1     11  \n",
       "2               18             1          14            1      4  \n",
       "3               15             1          18            1      3  \n",
       "4                5             2           8            2      3  \n",
       "...            ...           ...         ...          ...    ...  \n",
       "24208           30             3          27           12      3  \n",
       "24209           18             3          31            5     13  \n",
       "24210           21             3          23            5      2  \n",
       "24211            1             4          22            5     21  \n",
       "24212            4             4           8            5      4  \n",
       "\n",
       "[22536 rows x 12 columns]"
      ]
     },
     "execution_count": 31,
     "metadata": {},
     "output_type": "execute_result"
    }
   ],
   "source": [
    "df3"
   ]
  },
  {
   "cell_type": "code",
   "execution_count": 32,
   "id": "35f749c9",
   "metadata": {},
   "outputs": [],
   "source": [
    "columns = ['Amount', 'Category', 'Region', 'Type', 'Delay']\n",
    "df3 = pd.get_dummies(df3[columns], columns=['Category', 'Region', 'Type'])"
   ]
  },
  {
   "cell_type": "code",
   "execution_count": 34,
   "id": "e9dddef3",
   "metadata": {},
   "outputs": [],
   "source": [
    "from sklearn.model_selection import train_test_split\n",
    "\n",
    "X = df3.drop(['Delay', 'Amount'], axis=1)\n",
    "y = df3['Delay']\n",
    "\n",
    "X_train, X_test, y_train, y_test = train_test_split(X, y, test_size=0.2, random_state=42)\n"
   ]
  },
  {
   "cell_type": "code",
   "execution_count": 35,
   "id": "f4a11c82",
   "metadata": {},
   "outputs": [
    {
     "data": {
      "text/html": [
       "<style>#sk-container-id-1 {color: black;background-color: white;}#sk-container-id-1 pre{padding: 0;}#sk-container-id-1 div.sk-toggleable {background-color: white;}#sk-container-id-1 label.sk-toggleable__label {cursor: pointer;display: block;width: 100%;margin-bottom: 0;padding: 0.3em;box-sizing: border-box;text-align: center;}#sk-container-id-1 label.sk-toggleable__label-arrow:before {content: \"▸\";float: left;margin-right: 0.25em;color: #696969;}#sk-container-id-1 label.sk-toggleable__label-arrow:hover:before {color: black;}#sk-container-id-1 div.sk-estimator:hover label.sk-toggleable__label-arrow:before {color: black;}#sk-container-id-1 div.sk-toggleable__content {max-height: 0;max-width: 0;overflow: hidden;text-align: left;background-color: #f0f8ff;}#sk-container-id-1 div.sk-toggleable__content pre {margin: 0.2em;color: black;border-radius: 0.25em;background-color: #f0f8ff;}#sk-container-id-1 input.sk-toggleable__control:checked~div.sk-toggleable__content {max-height: 200px;max-width: 100%;overflow: auto;}#sk-container-id-1 input.sk-toggleable__control:checked~label.sk-toggleable__label-arrow:before {content: \"▾\";}#sk-container-id-1 div.sk-estimator input.sk-toggleable__control:checked~label.sk-toggleable__label {background-color: #d4ebff;}#sk-container-id-1 div.sk-label input.sk-toggleable__control:checked~label.sk-toggleable__label {background-color: #d4ebff;}#sk-container-id-1 input.sk-hidden--visually {border: 0;clip: rect(1px 1px 1px 1px);clip: rect(1px, 1px, 1px, 1px);height: 1px;margin: -1px;overflow: hidden;padding: 0;position: absolute;width: 1px;}#sk-container-id-1 div.sk-estimator {font-family: monospace;background-color: #f0f8ff;border: 1px dotted black;border-radius: 0.25em;box-sizing: border-box;margin-bottom: 0.5em;}#sk-container-id-1 div.sk-estimator:hover {background-color: #d4ebff;}#sk-container-id-1 div.sk-parallel-item::after {content: \"\";width: 100%;border-bottom: 1px solid gray;flex-grow: 1;}#sk-container-id-1 div.sk-label:hover label.sk-toggleable__label {background-color: #d4ebff;}#sk-container-id-1 div.sk-serial::before {content: \"\";position: absolute;border-left: 1px solid gray;box-sizing: border-box;top: 0;bottom: 0;left: 50%;z-index: 0;}#sk-container-id-1 div.sk-serial {display: flex;flex-direction: column;align-items: center;background-color: white;padding-right: 0.2em;padding-left: 0.2em;position: relative;}#sk-container-id-1 div.sk-item {position: relative;z-index: 1;}#sk-container-id-1 div.sk-parallel {display: flex;align-items: stretch;justify-content: center;background-color: white;position: relative;}#sk-container-id-1 div.sk-item::before, #sk-container-id-1 div.sk-parallel-item::before {content: \"\";position: absolute;border-left: 1px solid gray;box-sizing: border-box;top: 0;bottom: 0;left: 50%;z-index: -1;}#sk-container-id-1 div.sk-parallel-item {display: flex;flex-direction: column;z-index: 1;position: relative;background-color: white;}#sk-container-id-1 div.sk-parallel-item:first-child::after {align-self: flex-end;width: 50%;}#sk-container-id-1 div.sk-parallel-item:last-child::after {align-self: flex-start;width: 50%;}#sk-container-id-1 div.sk-parallel-item:only-child::after {width: 0;}#sk-container-id-1 div.sk-dashed-wrapped {border: 1px dashed gray;margin: 0 0.4em 0.5em 0.4em;box-sizing: border-box;padding-bottom: 0.4em;background-color: white;}#sk-container-id-1 div.sk-label label {font-family: monospace;font-weight: bold;display: inline-block;line-height: 1.2em;}#sk-container-id-1 div.sk-label-container {text-align: center;}#sk-container-id-1 div.sk-container {/* jupyter's `normalize.less` sets `[hidden] { display: none; }` but bootstrap.min.css set `[hidden] { display: none !important; }` so we also need the `!important` here to be able to override the default hidden behavior on the sphinx rendered scikit-learn.org. See: https://github.com/scikit-learn/scikit-learn/issues/21755 */display: inline-block !important;position: relative;}#sk-container-id-1 div.sk-text-repr-fallback {display: none;}</style><div id=\"sk-container-id-1\" class=\"sk-top-container\"><div class=\"sk-text-repr-fallback\"><pre>LinearRegression()</pre><b>In a Jupyter environment, please rerun this cell to show the HTML representation or trust the notebook. <br />On GitHub, the HTML representation is unable to render, please try loading this page with nbviewer.org.</b></div><div class=\"sk-container\" hidden><div class=\"sk-item\"><div class=\"sk-estimator sk-toggleable\"><input class=\"sk-toggleable__control sk-hidden--visually\" id=\"sk-estimator-id-1\" type=\"checkbox\" checked><label for=\"sk-estimator-id-1\" class=\"sk-toggleable__label sk-toggleable__label-arrow\">LinearRegression</label><div class=\"sk-toggleable__content\"><pre>LinearRegression()</pre></div></div></div></div></div>"
      ],
      "text/plain": [
       "LinearRegression()"
      ]
     },
     "execution_count": 35,
     "metadata": {},
     "output_type": "execute_result"
    }
   ],
   "source": [
    "from sklearn.linear_model import LinearRegression\n",
    "\n",
    "model = LinearRegression()\n",
    "model.fit(X_train, y_train)\n"
   ]
  },
  {
   "cell_type": "markdown",
   "id": "745d9d48",
   "metadata": {},
   "source": [
    "##### Summary of Modeling Approach"
   ]
  },
  {
   "cell_type": "markdown",
   "id": "3c1f5235",
   "metadata": {},
   "source": [
    "The steps taken to apply a linear regression model to predict the delay in days between the planned and actual date for processing claims involved first loading the dataset into a pandas DataFrame. Then, the data was pre-processed by converting the 'Planned day' and 'Actual Day' columns to numeric data types, as they were initially in string format. Next, a linear regression model was fit to the data using scikit-learn's LinearRegression class. The model's performance was evaluated using the mean squared error and R2 score metrics."
   ]
  },
  {
   "cell_type": "markdown",
   "id": "aa55a447",
   "metadata": {},
   "source": [
    "# Question 6 "
   ]
  },
  {
   "cell_type": "code",
   "execution_count": 36,
   "id": "cea7800e",
   "metadata": {},
   "outputs": [
    {
     "name": "stdout",
     "output_type": "stream",
     "text": [
      "Mean Squared Error: 9.17636915940278e+23\n",
      "R2 Score: -1.959661084713111e+22\n"
     ]
    }
   ],
   "source": [
    "from sklearn.metrics import mean_squared_error, r2_score\n",
    "\n",
    "y_pred = model.predict(X_test)\n",
    "\n",
    "mse = mean_squared_error(y_test, y_pred)\n",
    "r2 = r2_score(y_test, y_pred)\n",
    "\n",
    "print('Mean Squared Error:', mse)\n",
    "print('R2 Score:', r2)\n"
   ]
  },
  {
   "cell_type": "markdown",
   "id": "e02945dc",
   "metadata": {},
   "source": [
    "##### Future Add-ons"
   ]
  },
  {
   "cell_type": "markdown",
   "id": "1b55d6bb",
   "metadata": {},
   "source": [
    "The results proved that despite alot of pre-processing and training and testing and refining of data to convert it into first normal form, Data behavior is highly non-linear and linear Regression is not best fit choice for predicting delay in days."
   ]
  },
  {
   "cell_type": "code",
   "execution_count": null,
   "id": "4d5c557a",
   "metadata": {},
   "outputs": [],
   "source": []
  }
 ],
 "metadata": {
  "kernelspec": {
   "display_name": "Python 3 (ipykernel)",
   "language": "python",
   "name": "python3"
  },
  "language_info": {
   "codemirror_mode": {
    "name": "ipython",
    "version": 3
   },
   "file_extension": ".py",
   "mimetype": "text/x-python",
   "name": "python",
   "nbconvert_exporter": "python",
   "pygments_lexer": "ipython3",
   "version": "3.9.7"
  }
 },
 "nbformat": 4,
 "nbformat_minor": 5
}
