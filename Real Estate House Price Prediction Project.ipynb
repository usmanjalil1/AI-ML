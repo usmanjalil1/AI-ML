{
 "cells": [
  {
   "cell_type": "code",
   "execution_count": 1,
   "id": "6f4a7f16",
   "metadata": {},
   "outputs": [],
   "source": [
    "import pandas as pd\n",
    "import matplotlib.pyplot as plt\n",
    "import numpy as np\n",
    "#Magic command in python\n",
    "%matplotlib inline\n",
    "#setting the figure size of all the graphs 20 by 10 by default\n",
    "plt.rcParams[\"figure.figsize\"] = (20,10)"
   ]
  },
  {
   "cell_type": "markdown",
   "id": "305b97e3",
   "metadata": {},
   "source": [
    "# Loading Data Set"
   ]
  },
  {
   "cell_type": "code",
   "execution_count": 2,
   "id": "fd496b0b",
   "metadata": {},
   "outputs": [],
   "source": [
    "data_frame = pd.read_csv(\"Real_estate_housing_data.csv\")"
   ]
  },
  {
   "cell_type": "markdown",
   "id": "bee532bb",
   "metadata": {},
   "source": [
    "# Pre-processing & Stats of Data "
   ]
  },
  {
   "cell_type": "code",
   "execution_count": 3,
   "id": "8a2ec393",
   "metadata": {},
   "outputs": [
    {
     "name": "stdout",
     "output_type": "stream",
     "text": [
      "<class 'pandas.core.frame.DataFrame'>\n",
      "RangeIndex: 13320 entries, 0 to 13319\n",
      "Data columns (total 9 columns):\n",
      " #   Column        Non-Null Count  Dtype  \n",
      "---  ------        --------------  -----  \n",
      " 0   area_type     13320 non-null  object \n",
      " 1   availability  13320 non-null  object \n",
      " 2   location      13319 non-null  object \n",
      " 3   size          13304 non-null  object \n",
      " 4   society       7818 non-null   object \n",
      " 5   total_sqft    13320 non-null  object \n",
      " 6   bath          13247 non-null  float64\n",
      " 7   balcony       12711 non-null  float64\n",
      " 8   price         13320 non-null  float64\n",
      "dtypes: float64(3), object(6)\n",
      "memory usage: 936.7+ KB\n"
     ]
    }
   ],
   "source": [
    "data_frame.info()"
   ]
  },
  {
   "cell_type": "code",
   "execution_count": 4,
   "id": "15b4cd7f",
   "metadata": {},
   "outputs": [
    {
     "data": {
      "text/plain": [
       "(13320, 9)"
      ]
     },
     "execution_count": 4,
     "metadata": {},
     "output_type": "execute_result"
    }
   ],
   "source": [
    "data_frame.shape"
   ]
  },
  {
   "cell_type": "code",
   "execution_count": 5,
   "id": "37b0ffeb",
   "metadata": {},
   "outputs": [
    {
     "data": {
      "text/html": [
       "<div>\n",
       "<style scoped>\n",
       "    .dataframe tbody tr th:only-of-type {\n",
       "        vertical-align: middle;\n",
       "    }\n",
       "\n",
       "    .dataframe tbody tr th {\n",
       "        vertical-align: top;\n",
       "    }\n",
       "\n",
       "    .dataframe thead th {\n",
       "        text-align: right;\n",
       "    }\n",
       "</style>\n",
       "<table border=\"1\" class=\"dataframe\">\n",
       "  <thead>\n",
       "    <tr style=\"text-align: right;\">\n",
       "      <th></th>\n",
       "      <th>area_type</th>\n",
       "      <th>availability</th>\n",
       "      <th>location</th>\n",
       "      <th>size</th>\n",
       "      <th>society</th>\n",
       "      <th>total_sqft</th>\n",
       "      <th>bath</th>\n",
       "      <th>balcony</th>\n",
       "      <th>price</th>\n",
       "    </tr>\n",
       "  </thead>\n",
       "  <tbody>\n",
       "    <tr>\n",
       "      <th>0</th>\n",
       "      <td>Super built-up  Area</td>\n",
       "      <td>19-Dec</td>\n",
       "      <td>Electronic City Phase II</td>\n",
       "      <td>2 BHK</td>\n",
       "      <td>Coomee</td>\n",
       "      <td>1056</td>\n",
       "      <td>2.0</td>\n",
       "      <td>1.0</td>\n",
       "      <td>39.07</td>\n",
       "    </tr>\n",
       "    <tr>\n",
       "      <th>1</th>\n",
       "      <td>Plot  Area</td>\n",
       "      <td>Ready To Move</td>\n",
       "      <td>Chikka Tirupathi</td>\n",
       "      <td>4 Bedroom</td>\n",
       "      <td>Theanmp</td>\n",
       "      <td>2600</td>\n",
       "      <td>5.0</td>\n",
       "      <td>3.0</td>\n",
       "      <td>120.00</td>\n",
       "    </tr>\n",
       "    <tr>\n",
       "      <th>2</th>\n",
       "      <td>Built-up  Area</td>\n",
       "      <td>Ready To Move</td>\n",
       "      <td>Uttarahalli</td>\n",
       "      <td>3 BHK</td>\n",
       "      <td>NaN</td>\n",
       "      <td>1440</td>\n",
       "      <td>2.0</td>\n",
       "      <td>3.0</td>\n",
       "      <td>62.00</td>\n",
       "    </tr>\n",
       "    <tr>\n",
       "      <th>3</th>\n",
       "      <td>Super built-up  Area</td>\n",
       "      <td>Ready To Move</td>\n",
       "      <td>Lingadheeranahalli</td>\n",
       "      <td>3 BHK</td>\n",
       "      <td>Soiewre</td>\n",
       "      <td>1521</td>\n",
       "      <td>3.0</td>\n",
       "      <td>1.0</td>\n",
       "      <td>95.00</td>\n",
       "    </tr>\n",
       "    <tr>\n",
       "      <th>4</th>\n",
       "      <td>Super built-up  Area</td>\n",
       "      <td>Ready To Move</td>\n",
       "      <td>Kothanur</td>\n",
       "      <td>2 BHK</td>\n",
       "      <td>NaN</td>\n",
       "      <td>1200</td>\n",
       "      <td>2.0</td>\n",
       "      <td>1.0</td>\n",
       "      <td>51.00</td>\n",
       "    </tr>\n",
       "  </tbody>\n",
       "</table>\n",
       "</div>"
      ],
      "text/plain": [
       "              area_type   availability                  location       size  \\\n",
       "0  Super built-up  Area         19-Dec  Electronic City Phase II      2 BHK   \n",
       "1            Plot  Area  Ready To Move          Chikka Tirupathi  4 Bedroom   \n",
       "2        Built-up  Area  Ready To Move               Uttarahalli      3 BHK   \n",
       "3  Super built-up  Area  Ready To Move        Lingadheeranahalli      3 BHK   \n",
       "4  Super built-up  Area  Ready To Move                  Kothanur      2 BHK   \n",
       "\n",
       "   society total_sqft  bath  balcony   price  \n",
       "0  Coomee        1056   2.0      1.0   39.07  \n",
       "1  Theanmp       2600   5.0      3.0  120.00  \n",
       "2      NaN       1440   2.0      3.0   62.00  \n",
       "3  Soiewre       1521   3.0      1.0   95.00  \n",
       "4      NaN       1200   2.0      1.0   51.00  "
      ]
     },
     "execution_count": 5,
     "metadata": {},
     "output_type": "execute_result"
    }
   ],
   "source": [
    "# Getting overview of Data by looking upto 5 rows\n",
    "data_frame.head(5)"
   ]
  },
  {
   "cell_type": "code",
   "execution_count": 6,
   "id": "184d20e7",
   "metadata": {},
   "outputs": [],
   "source": [
    "#dropping the irrelevant rows with string entries using pandas function\n",
    "data_frame.drop(['area_type', 'society', 'balcony', 'availability'], axis = 'columns', inplace = True)"
   ]
  },
  {
   "cell_type": "code",
   "execution_count": 7,
   "id": "ef878a8a",
   "metadata": {},
   "outputs": [
    {
     "data": {
      "text/html": [
       "<div>\n",
       "<style scoped>\n",
       "    .dataframe tbody tr th:only-of-type {\n",
       "        vertical-align: middle;\n",
       "    }\n",
       "\n",
       "    .dataframe tbody tr th {\n",
       "        vertical-align: top;\n",
       "    }\n",
       "\n",
       "    .dataframe thead th {\n",
       "        text-align: right;\n",
       "    }\n",
       "</style>\n",
       "<table border=\"1\" class=\"dataframe\">\n",
       "  <thead>\n",
       "    <tr style=\"text-align: right;\">\n",
       "      <th></th>\n",
       "      <th>location</th>\n",
       "      <th>size</th>\n",
       "      <th>total_sqft</th>\n",
       "      <th>bath</th>\n",
       "      <th>price</th>\n",
       "    </tr>\n",
       "  </thead>\n",
       "  <tbody>\n",
       "    <tr>\n",
       "      <th>0</th>\n",
       "      <td>Electronic City Phase II</td>\n",
       "      <td>2 BHK</td>\n",
       "      <td>1056</td>\n",
       "      <td>2.0</td>\n",
       "      <td>39.07</td>\n",
       "    </tr>\n",
       "    <tr>\n",
       "      <th>1</th>\n",
       "      <td>Chikka Tirupathi</td>\n",
       "      <td>4 Bedroom</td>\n",
       "      <td>2600</td>\n",
       "      <td>5.0</td>\n",
       "      <td>120.00</td>\n",
       "    </tr>\n",
       "    <tr>\n",
       "      <th>2</th>\n",
       "      <td>Uttarahalli</td>\n",
       "      <td>3 BHK</td>\n",
       "      <td>1440</td>\n",
       "      <td>2.0</td>\n",
       "      <td>62.00</td>\n",
       "    </tr>\n",
       "    <tr>\n",
       "      <th>3</th>\n",
       "      <td>Lingadheeranahalli</td>\n",
       "      <td>3 BHK</td>\n",
       "      <td>1521</td>\n",
       "      <td>3.0</td>\n",
       "      <td>95.00</td>\n",
       "    </tr>\n",
       "    <tr>\n",
       "      <th>4</th>\n",
       "      <td>Kothanur</td>\n",
       "      <td>2 BHK</td>\n",
       "      <td>1200</td>\n",
       "      <td>2.0</td>\n",
       "      <td>51.00</td>\n",
       "    </tr>\n",
       "  </tbody>\n",
       "</table>\n",
       "</div>"
      ],
      "text/plain": [
       "                   location       size total_sqft  bath   price\n",
       "0  Electronic City Phase II      2 BHK       1056   2.0   39.07\n",
       "1          Chikka Tirupathi  4 Bedroom       2600   5.0  120.00\n",
       "2               Uttarahalli      3 BHK       1440   2.0   62.00\n",
       "3        Lingadheeranahalli      3 BHK       1521   3.0   95.00\n",
       "4                  Kothanur      2 BHK       1200   2.0   51.00"
      ]
     },
     "execution_count": 7,
     "metadata": {},
     "output_type": "execute_result"
    }
   ],
   "source": [
    "data_frame.head(5)"
   ]
  },
  {
   "cell_type": "markdown",
   "id": "fe3f9f64",
   "metadata": {},
   "source": [
    "# Data Analysis & Cleaning"
   ]
  },
  {
   "cell_type": "code",
   "execution_count": 8,
   "id": "df29355a",
   "metadata": {},
   "outputs": [
    {
     "data": {
      "text/plain": [
       "location       1\n",
       "size          16\n",
       "total_sqft     0\n",
       "bath          73\n",
       "price          0\n",
       "dtype: int64"
      ]
     },
     "execution_count": 8,
     "metadata": {},
     "output_type": "execute_result"
    }
   ],
   "source": [
    "#checking Null (NaN) values in columns\n",
    "Null_Values=data_frame.isnull()\n",
    "Null_Values.sum()"
   ]
  },
  {
   "cell_type": "code",
   "execution_count": 9,
   "id": "c099c82c",
   "metadata": {},
   "outputs": [
    {
     "data": {
      "text/plain": [
       "location      0\n",
       "size          0\n",
       "total_sqft    0\n",
       "bath          0\n",
       "price         0\n",
       "dtype: int64"
      ]
     },
     "execution_count": 9,
     "metadata": {},
     "output_type": "execute_result"
    }
   ],
   "source": [
    "# dropna() function drops the null values from all columns of data set\n",
    "improved_data_frame = data_frame.dropna()\n",
    "improved_data_frame.isnull().sum()"
   ]
  },
  {
   "cell_type": "code",
   "execution_count": 10,
   "id": "2b9ab0c8",
   "metadata": {},
   "outputs": [
    {
     "data": {
      "text/plain": [
       "array(['2 BHK', '4 Bedroom', '3 BHK', '4 BHK', '6 Bedroom', '3 Bedroom',\n",
       "       '1 BHK', '1 RK', '1 Bedroom', '8 Bedroom', '2 Bedroom',\n",
       "       '7 Bedroom', '5 BHK', '7 BHK', '6 BHK', '5 Bedroom', '11 BHK',\n",
       "       '9 BHK', '9 Bedroom', '27 BHK', '10 Bedroom', '11 Bedroom',\n",
       "       '10 BHK', '19 BHK', '16 BHK', '43 Bedroom', '14 BHK', '8 BHK',\n",
       "       '12 Bedroom', '13 BHK', '18 Bedroom'], dtype=object)"
      ]
     },
     "execution_count": 10,
     "metadata": {},
     "output_type": "execute_result"
    }
   ],
   "source": [
    "improved_data_frame['size'].unique()"
   ]
  },
  {
   "cell_type": "code",
   "execution_count": 11,
   "id": "4ad284f7",
   "metadata": {},
   "outputs": [
    {
     "data": {
      "text/plain": [
       "(13246, 5)"
      ]
     },
     "execution_count": 11,
     "metadata": {},
     "output_type": "execute_result"
    }
   ],
   "source": [
    "improved_data_frame.shape"
   ]
  },
  {
   "cell_type": "code",
   "execution_count": 12,
   "id": "dd98f2ee",
   "metadata": {},
   "outputs": [],
   "source": [
    "def int_separator(x):\n",
    "    x = int(x.split(' ')[0])\n",
    "    return x;"
   ]
  },
  {
   "cell_type": "code",
   "execution_count": 13,
   "id": "9477c80a",
   "metadata": {},
   "outputs": [
    {
     "name": "stderr",
     "output_type": "stream",
     "text": [
      "C:\\Users\\USMANJ~1\\AppData\\Local\\Temp/ipykernel_18904/2941730271.py:1: SettingWithCopyWarning: \n",
      "A value is trying to be set on a copy of a slice from a DataFrame.\n",
      "Try using .loc[row_indexer,col_indexer] = value instead\n",
      "\n",
      "See the caveats in the documentation: https://pandas.pydata.org/pandas-docs/stable/user_guide/indexing.html#returning-a-view-versus-a-copy\n",
      "  improved_data_frame['bedrooms'] = improved_data_frame['size'].apply(int_separator)\n"
     ]
    }
   ],
   "source": [
    "improved_data_frame['bedrooms'] = improved_data_frame['size'].apply(int_separator)"
   ]
  },
  {
   "cell_type": "code",
   "execution_count": 14,
   "id": "aecffcfe",
   "metadata": {},
   "outputs": [
    {
     "data": {
      "text/plain": [
       "array([ 2,  4,  3,  6,  1,  8,  7,  5, 11,  9, 27, 10, 19, 16, 43, 14, 12,\n",
       "       13, 18], dtype=int64)"
      ]
     },
     "execution_count": 14,
     "metadata": {},
     "output_type": "execute_result"
    }
   ],
   "source": [
    "improved_data_frame.bedrooms.unique()"
   ]
  },
  {
   "cell_type": "code",
   "execution_count": 15,
   "id": "e73efdf5",
   "metadata": {},
   "outputs": [
    {
     "data": {
      "text/html": [
       "<div>\n",
       "<style scoped>\n",
       "    .dataframe tbody tr th:only-of-type {\n",
       "        vertical-align: middle;\n",
       "    }\n",
       "\n",
       "    .dataframe tbody tr th {\n",
       "        vertical-align: top;\n",
       "    }\n",
       "\n",
       "    .dataframe thead th {\n",
       "        text-align: right;\n",
       "    }\n",
       "</style>\n",
       "<table border=\"1\" class=\"dataframe\">\n",
       "  <thead>\n",
       "    <tr style=\"text-align: right;\">\n",
       "      <th></th>\n",
       "      <th>location</th>\n",
       "      <th>size</th>\n",
       "      <th>total_sqft</th>\n",
       "      <th>bath</th>\n",
       "      <th>price</th>\n",
       "      <th>bedrooms</th>\n",
       "    </tr>\n",
       "  </thead>\n",
       "  <tbody>\n",
       "    <tr>\n",
       "      <th>0</th>\n",
       "      <td>Electronic City Phase II</td>\n",
       "      <td>2 BHK</td>\n",
       "      <td>1056</td>\n",
       "      <td>2.0</td>\n",
       "      <td>39.07</td>\n",
       "      <td>2</td>\n",
       "    </tr>\n",
       "    <tr>\n",
       "      <th>1</th>\n",
       "      <td>Chikka Tirupathi</td>\n",
       "      <td>4 Bedroom</td>\n",
       "      <td>2600</td>\n",
       "      <td>5.0</td>\n",
       "      <td>120.00</td>\n",
       "      <td>4</td>\n",
       "    </tr>\n",
       "    <tr>\n",
       "      <th>2</th>\n",
       "      <td>Uttarahalli</td>\n",
       "      <td>3 BHK</td>\n",
       "      <td>1440</td>\n",
       "      <td>2.0</td>\n",
       "      <td>62.00</td>\n",
       "      <td>3</td>\n",
       "    </tr>\n",
       "    <tr>\n",
       "      <th>3</th>\n",
       "      <td>Lingadheeranahalli</td>\n",
       "      <td>3 BHK</td>\n",
       "      <td>1521</td>\n",
       "      <td>3.0</td>\n",
       "      <td>95.00</td>\n",
       "      <td>3</td>\n",
       "    </tr>\n",
       "    <tr>\n",
       "      <th>4</th>\n",
       "      <td>Kothanur</td>\n",
       "      <td>2 BHK</td>\n",
       "      <td>1200</td>\n",
       "      <td>2.0</td>\n",
       "      <td>51.00</td>\n",
       "      <td>2</td>\n",
       "    </tr>\n",
       "  </tbody>\n",
       "</table>\n",
       "</div>"
      ],
      "text/plain": [
       "                   location       size total_sqft  bath   price  bedrooms\n",
       "0  Electronic City Phase II      2 BHK       1056   2.0   39.07         2\n",
       "1          Chikka Tirupathi  4 Bedroom       2600   5.0  120.00         4\n",
       "2               Uttarahalli      3 BHK       1440   2.0   62.00         3\n",
       "3        Lingadheeranahalli      3 BHK       1521   3.0   95.00         3\n",
       "4                  Kothanur      2 BHK       1200   2.0   51.00         2"
      ]
     },
     "execution_count": 15,
     "metadata": {},
     "output_type": "execute_result"
    }
   ],
   "source": [
    "improved_data_frame.head(5)"
   ]
  },
  {
   "cell_type": "code",
   "execution_count": 16,
   "id": "7420888e",
   "metadata": {},
   "outputs": [
    {
     "data": {
      "text/html": [
       "<div>\n",
       "<style scoped>\n",
       "    .dataframe tbody tr th:only-of-type {\n",
       "        vertical-align: middle;\n",
       "    }\n",
       "\n",
       "    .dataframe tbody tr th {\n",
       "        vertical-align: top;\n",
       "    }\n",
       "\n",
       "    .dataframe thead th {\n",
       "        text-align: right;\n",
       "    }\n",
       "</style>\n",
       "<table border=\"1\" class=\"dataframe\">\n",
       "  <thead>\n",
       "    <tr style=\"text-align: right;\">\n",
       "      <th></th>\n",
       "      <th>location</th>\n",
       "      <th>size</th>\n",
       "      <th>total_sqft</th>\n",
       "      <th>bath</th>\n",
       "      <th>price</th>\n",
       "      <th>bedrooms</th>\n",
       "    </tr>\n",
       "  </thead>\n",
       "  <tbody>\n",
       "    <tr>\n",
       "      <th>1718</th>\n",
       "      <td>2Electronic City Phase II</td>\n",
       "      <td>27 BHK</td>\n",
       "      <td>8000</td>\n",
       "      <td>27.0</td>\n",
       "      <td>230.0</td>\n",
       "      <td>27</td>\n",
       "    </tr>\n",
       "    <tr>\n",
       "      <th>4684</th>\n",
       "      <td>Munnekollal</td>\n",
       "      <td>43 Bedroom</td>\n",
       "      <td>2400</td>\n",
       "      <td>40.0</td>\n",
       "      <td>660.0</td>\n",
       "      <td>43</td>\n",
       "    </tr>\n",
       "  </tbody>\n",
       "</table>\n",
       "</div>"
      ],
      "text/plain": [
       "                       location        size total_sqft  bath  price  bedrooms\n",
       "1718  2Electronic City Phase II      27 BHK       8000  27.0  230.0        27\n",
       "4684                Munnekollal  43 Bedroom       2400  40.0  660.0        43"
      ]
     },
     "execution_count": 16,
     "metadata": {},
     "output_type": "execute_result"
    }
   ],
   "source": [
    "improved_data_frame[improved_data_frame.bedrooms>25]"
   ]
  },
  {
   "cell_type": "code",
   "execution_count": 17,
   "id": "8008fb18",
   "metadata": {},
   "outputs": [],
   "source": [
    "# Irregularities in total_sqft column\n",
    "def irregularity_checker(x):\n",
    "    try:\n",
    "        float(x)\n",
    "    except:\n",
    "        return False\n",
    "    return True"
   ]
  },
  {
   "cell_type": "code",
   "execution_count": 18,
   "id": "b0a9678d",
   "metadata": {},
   "outputs": [
    {
     "data": {
      "text/html": [
       "<div>\n",
       "<style scoped>\n",
       "    .dataframe tbody tr th:only-of-type {\n",
       "        vertical-align: middle;\n",
       "    }\n",
       "\n",
       "    .dataframe tbody tr th {\n",
       "        vertical-align: top;\n",
       "    }\n",
       "\n",
       "    .dataframe thead th {\n",
       "        text-align: right;\n",
       "    }\n",
       "</style>\n",
       "<table border=\"1\" class=\"dataframe\">\n",
       "  <thead>\n",
       "    <tr style=\"text-align: right;\">\n",
       "      <th></th>\n",
       "      <th>location</th>\n",
       "      <th>size</th>\n",
       "      <th>total_sqft</th>\n",
       "      <th>bath</th>\n",
       "      <th>price</th>\n",
       "      <th>bedrooms</th>\n",
       "    </tr>\n",
       "  </thead>\n",
       "  <tbody>\n",
       "    <tr>\n",
       "      <th>30</th>\n",
       "      <td>Yelahanka</td>\n",
       "      <td>4 BHK</td>\n",
       "      <td>2100 - 2850</td>\n",
       "      <td>4.0</td>\n",
       "      <td>186.000</td>\n",
       "      <td>4</td>\n",
       "    </tr>\n",
       "    <tr>\n",
       "      <th>122</th>\n",
       "      <td>Hebbal</td>\n",
       "      <td>4 BHK</td>\n",
       "      <td>3067 - 8156</td>\n",
       "      <td>4.0</td>\n",
       "      <td>477.000</td>\n",
       "      <td>4</td>\n",
       "    </tr>\n",
       "    <tr>\n",
       "      <th>137</th>\n",
       "      <td>8th Phase JP Nagar</td>\n",
       "      <td>2 BHK</td>\n",
       "      <td>1042 - 1105</td>\n",
       "      <td>2.0</td>\n",
       "      <td>54.005</td>\n",
       "      <td>2</td>\n",
       "    </tr>\n",
       "    <tr>\n",
       "      <th>165</th>\n",
       "      <td>Sarjapur</td>\n",
       "      <td>2 BHK</td>\n",
       "      <td>1145 - 1340</td>\n",
       "      <td>2.0</td>\n",
       "      <td>43.490</td>\n",
       "      <td>2</td>\n",
       "    </tr>\n",
       "    <tr>\n",
       "      <th>188</th>\n",
       "      <td>KR Puram</td>\n",
       "      <td>2 BHK</td>\n",
       "      <td>1015 - 1540</td>\n",
       "      <td>2.0</td>\n",
       "      <td>56.800</td>\n",
       "      <td>2</td>\n",
       "    </tr>\n",
       "    <tr>\n",
       "      <th>...</th>\n",
       "      <td>...</td>\n",
       "      <td>...</td>\n",
       "      <td>...</td>\n",
       "      <td>...</td>\n",
       "      <td>...</td>\n",
       "      <td>...</td>\n",
       "    </tr>\n",
       "    <tr>\n",
       "      <th>12975</th>\n",
       "      <td>Whitefield</td>\n",
       "      <td>2 BHK</td>\n",
       "      <td>850 - 1060</td>\n",
       "      <td>2.0</td>\n",
       "      <td>38.190</td>\n",
       "      <td>2</td>\n",
       "    </tr>\n",
       "    <tr>\n",
       "      <th>12990</th>\n",
       "      <td>Talaghattapura</td>\n",
       "      <td>3 BHK</td>\n",
       "      <td>1804 - 2273</td>\n",
       "      <td>3.0</td>\n",
       "      <td>122.000</td>\n",
       "      <td>3</td>\n",
       "    </tr>\n",
       "    <tr>\n",
       "      <th>13059</th>\n",
       "      <td>Harlur</td>\n",
       "      <td>2 BHK</td>\n",
       "      <td>1200 - 1470</td>\n",
       "      <td>2.0</td>\n",
       "      <td>72.760</td>\n",
       "      <td>2</td>\n",
       "    </tr>\n",
       "    <tr>\n",
       "      <th>13265</th>\n",
       "      <td>Hoodi</td>\n",
       "      <td>2 BHK</td>\n",
       "      <td>1133 - 1384</td>\n",
       "      <td>2.0</td>\n",
       "      <td>59.135</td>\n",
       "      <td>2</td>\n",
       "    </tr>\n",
       "    <tr>\n",
       "      <th>13299</th>\n",
       "      <td>Whitefield</td>\n",
       "      <td>4 BHK</td>\n",
       "      <td>2830 - 2882</td>\n",
       "      <td>5.0</td>\n",
       "      <td>154.500</td>\n",
       "      <td>4</td>\n",
       "    </tr>\n",
       "  </tbody>\n",
       "</table>\n",
       "<p>190 rows × 6 columns</p>\n",
       "</div>"
      ],
      "text/plain": [
       "                 location   size   total_sqft  bath    price  bedrooms\n",
       "30              Yelahanka  4 BHK  2100 - 2850   4.0  186.000         4\n",
       "122                Hebbal  4 BHK  3067 - 8156   4.0  477.000         4\n",
       "137    8th Phase JP Nagar  2 BHK  1042 - 1105   2.0   54.005         2\n",
       "165              Sarjapur  2 BHK  1145 - 1340   2.0   43.490         2\n",
       "188              KR Puram  2 BHK  1015 - 1540   2.0   56.800         2\n",
       "...                   ...    ...          ...   ...      ...       ...\n",
       "12975          Whitefield  2 BHK   850 - 1060   2.0   38.190         2\n",
       "12990      Talaghattapura  3 BHK  1804 - 2273   3.0  122.000         3\n",
       "13059              Harlur  2 BHK  1200 - 1470   2.0   72.760         2\n",
       "13265               Hoodi  2 BHK  1133 - 1384   2.0   59.135         2\n",
       "13299          Whitefield  4 BHK  2830 - 2882   5.0  154.500         4\n",
       "\n",
       "[190 rows x 6 columns]"
      ]
     },
     "execution_count": 18,
     "metadata": {},
     "output_type": "execute_result"
    }
   ],
   "source": [
    "improved_data_frame[~improved_data_frame['total_sqft'].apply(irregularity_checker)]"
   ]
  },
  {
   "cell_type": "code",
   "execution_count": 19,
   "id": "dd9f3bc1",
   "metadata": {},
   "outputs": [],
   "source": [
    "#function to split the string and take average by converting string into floating numbers\n",
    "def Average(i):\n",
    "    List = i.split('-')\n",
    "    if len(List)==2:\n",
    "        return((float(List[0])+float(List[1]))/2)\n",
    "        \n",
    "    try:\n",
    "        return float(i)\n",
    "    except:\n",
    "        return None"
   ]
  },
  {
   "cell_type": "code",
   "execution_count": 20,
   "id": "fcff94dd",
   "metadata": {},
   "outputs": [],
   "source": [
    "#copying data set into other variable so it cannot affect the original data set\n",
    "improved_data_frame1 = improved_data_frame.copy()\n",
    "improved_data_frame1.total_sqft = improved_data_frame1['total_sqft'].apply(Average)\n",
    "improved_data_frame1 = improved_data_frame1[improved_data_frame1.total_sqft.notnull()]"
   ]
  },
  {
   "cell_type": "code",
   "execution_count": 21,
   "id": "75eb71dc",
   "metadata": {},
   "outputs": [
    {
     "data": {
      "text/html": [
       "<div>\n",
       "<style scoped>\n",
       "    .dataframe tbody tr th:only-of-type {\n",
       "        vertical-align: middle;\n",
       "    }\n",
       "\n",
       "    .dataframe tbody tr th {\n",
       "        vertical-align: top;\n",
       "    }\n",
       "\n",
       "    .dataframe thead th {\n",
       "        text-align: right;\n",
       "    }\n",
       "</style>\n",
       "<table border=\"1\" class=\"dataframe\">\n",
       "  <thead>\n",
       "    <tr style=\"text-align: right;\">\n",
       "      <th></th>\n",
       "      <th>location</th>\n",
       "      <th>size</th>\n",
       "      <th>total_sqft</th>\n",
       "      <th>bath</th>\n",
       "      <th>price</th>\n",
       "      <th>bedrooms</th>\n",
       "    </tr>\n",
       "  </thead>\n",
       "  <tbody>\n",
       "    <tr>\n",
       "      <th>0</th>\n",
       "      <td>Electronic City Phase II</td>\n",
       "      <td>2 BHK</td>\n",
       "      <td>1056.0</td>\n",
       "      <td>2.0</td>\n",
       "      <td>39.07</td>\n",
       "      <td>2</td>\n",
       "    </tr>\n",
       "    <tr>\n",
       "      <th>1</th>\n",
       "      <td>Chikka Tirupathi</td>\n",
       "      <td>4 Bedroom</td>\n",
       "      <td>2600.0</td>\n",
       "      <td>5.0</td>\n",
       "      <td>120.00</td>\n",
       "      <td>4</td>\n",
       "    </tr>\n",
       "    <tr>\n",
       "      <th>2</th>\n",
       "      <td>Uttarahalli</td>\n",
       "      <td>3 BHK</td>\n",
       "      <td>1440.0</td>\n",
       "      <td>2.0</td>\n",
       "      <td>62.00</td>\n",
       "      <td>3</td>\n",
       "    </tr>\n",
       "    <tr>\n",
       "      <th>3</th>\n",
       "      <td>Lingadheeranahalli</td>\n",
       "      <td>3 BHK</td>\n",
       "      <td>1521.0</td>\n",
       "      <td>3.0</td>\n",
       "      <td>95.00</td>\n",
       "      <td>3</td>\n",
       "    </tr>\n",
       "    <tr>\n",
       "      <th>4</th>\n",
       "      <td>Kothanur</td>\n",
       "      <td>2 BHK</td>\n",
       "      <td>1200.0</td>\n",
       "      <td>2.0</td>\n",
       "      <td>51.00</td>\n",
       "      <td>2</td>\n",
       "    </tr>\n",
       "  </tbody>\n",
       "</table>\n",
       "</div>"
      ],
      "text/plain": [
       "                   location       size  total_sqft  bath   price  bedrooms\n",
       "0  Electronic City Phase II      2 BHK      1056.0   2.0   39.07         2\n",
       "1          Chikka Tirupathi  4 Bedroom      2600.0   5.0  120.00         4\n",
       "2               Uttarahalli      3 BHK      1440.0   2.0   62.00         3\n",
       "3        Lingadheeranahalli      3 BHK      1521.0   3.0   95.00         3\n",
       "4                  Kothanur      2 BHK      1200.0   2.0   51.00         2"
      ]
     },
     "execution_count": 21,
     "metadata": {},
     "output_type": "execute_result"
    }
   ],
   "source": [
    "improved_data_frame1.head(5)"
   ]
  },
  {
   "cell_type": "markdown",
   "id": "fa7eb072",
   "metadata": {},
   "source": [
    "# High Dimensionality Problem"
   ]
  },
  {
   "cell_type": "markdown",
   "id": "aa3f83a6",
   "metadata": {},
   "source": [
    "High dimentionality problem in the data set is the kind of problem in which data has some attributes which does not have great impact on mean or std of data set. Concatinating them into single attribute will not affect the data set as much. We solve this problem by simply removing or using them with single attribute."
   ]
  },
  {
   "cell_type": "code",
   "execution_count": 22,
   "id": "badd987a",
   "metadata": {},
   "outputs": [
    {
     "data": {
      "text/html": [
       "<div>\n",
       "<style scoped>\n",
       "    .dataframe tbody tr th:only-of-type {\n",
       "        vertical-align: middle;\n",
       "    }\n",
       "\n",
       "    .dataframe tbody tr th {\n",
       "        vertical-align: top;\n",
       "    }\n",
       "\n",
       "    .dataframe thead th {\n",
       "        text-align: right;\n",
       "    }\n",
       "</style>\n",
       "<table border=\"1\" class=\"dataframe\">\n",
       "  <thead>\n",
       "    <tr style=\"text-align: right;\">\n",
       "      <th></th>\n",
       "      <th>location</th>\n",
       "      <th>size</th>\n",
       "      <th>total_sqft</th>\n",
       "      <th>bath</th>\n",
       "      <th>price</th>\n",
       "      <th>bedrooms</th>\n",
       "      <th>price_per_sqft</th>\n",
       "    </tr>\n",
       "  </thead>\n",
       "  <tbody>\n",
       "    <tr>\n",
       "      <th>0</th>\n",
       "      <td>Electronic City Phase II</td>\n",
       "      <td>2 BHK</td>\n",
       "      <td>1056.0</td>\n",
       "      <td>2.0</td>\n",
       "      <td>39.07</td>\n",
       "      <td>2</td>\n",
       "      <td>3699.810606</td>\n",
       "    </tr>\n",
       "    <tr>\n",
       "      <th>1</th>\n",
       "      <td>Chikka Tirupathi</td>\n",
       "      <td>4 Bedroom</td>\n",
       "      <td>2600.0</td>\n",
       "      <td>5.0</td>\n",
       "      <td>120.00</td>\n",
       "      <td>4</td>\n",
       "      <td>4615.384615</td>\n",
       "    </tr>\n",
       "    <tr>\n",
       "      <th>2</th>\n",
       "      <td>Uttarahalli</td>\n",
       "      <td>3 BHK</td>\n",
       "      <td>1440.0</td>\n",
       "      <td>2.0</td>\n",
       "      <td>62.00</td>\n",
       "      <td>3</td>\n",
       "      <td>4305.555556</td>\n",
       "    </tr>\n",
       "    <tr>\n",
       "      <th>3</th>\n",
       "      <td>Lingadheeranahalli</td>\n",
       "      <td>3 BHK</td>\n",
       "      <td>1521.0</td>\n",
       "      <td>3.0</td>\n",
       "      <td>95.00</td>\n",
       "      <td>3</td>\n",
       "      <td>6245.890861</td>\n",
       "    </tr>\n",
       "    <tr>\n",
       "      <th>4</th>\n",
       "      <td>Kothanur</td>\n",
       "      <td>2 BHK</td>\n",
       "      <td>1200.0</td>\n",
       "      <td>2.0</td>\n",
       "      <td>51.00</td>\n",
       "      <td>2</td>\n",
       "      <td>4250.000000</td>\n",
       "    </tr>\n",
       "  </tbody>\n",
       "</table>\n",
       "</div>"
      ],
      "text/plain": [
       "                   location       size  total_sqft  bath   price  bedrooms  \\\n",
       "0  Electronic City Phase II      2 BHK      1056.0   2.0   39.07         2   \n",
       "1          Chikka Tirupathi  4 Bedroom      2600.0   5.0  120.00         4   \n",
       "2               Uttarahalli      3 BHK      1440.0   2.0   62.00         3   \n",
       "3        Lingadheeranahalli      3 BHK      1521.0   3.0   95.00         3   \n",
       "4                  Kothanur      2 BHK      1200.0   2.0   51.00         2   \n",
       "\n",
       "   price_per_sqft  \n",
       "0     3699.810606  \n",
       "1     4615.384615  \n",
       "2     4305.555556  \n",
       "3     6245.890861  \n",
       "4     4250.000000  "
      ]
     },
     "execution_count": 22,
     "metadata": {},
     "output_type": "execute_result"
    }
   ],
   "source": [
    "#introducing new column of price per sqft\n",
    "improved_data_frame2 = improved_data_frame1.copy()\n",
    "# prices are in lac Rupees [1 Million = 10 Lac Rupees]\n",
    "improved_data_frame2['price_per_sqft'] = improved_data_frame2.price*100000/improved_data_frame2.total_sqft\n",
    "improved_data_frame2.head(5)"
   ]
  },
  {
   "cell_type": "code",
   "execution_count": 23,
   "id": "44f062c8",
   "metadata": {},
   "outputs": [],
   "source": [
    "def examineCatagoricalVariable(x):\n",
    "    # strip() is used to remove extra spaces\n",
    "    return x.strip()"
   ]
  },
  {
   "cell_type": "code",
   "execution_count": 24,
   "id": "b3487d2f",
   "metadata": {},
   "outputs": [],
   "source": [
    "improved_data_frame2.location = improved_data_frame2.location.apply(examineCatagoricalVariable)\n",
    "#checking the frequency of different locations in locations Column and their contribution in the data\n",
    "location = improved_data_frame2.groupby('location')['location'].agg('count')"
   ]
  },
  {
   "cell_type": "markdown",
   "id": "550f0520",
   "metadata": {},
   "source": [
    "In the location column you can see there are single value points which does not any significant impact on data set. They are only inreasing the computation time."
   ]
  },
  {
   "cell_type": "code",
   "execution_count": 25,
   "id": "6710f2e6",
   "metadata": {},
   "outputs": [
    {
     "data": {
      "text/plain": [
       "location\n",
       "Whitefield               533\n",
       "Sarjapur  Road           392\n",
       "Electronic City          304\n",
       "Kanakpura Road           264\n",
       "Thanisandra              235\n",
       "                        ... \n",
       "1 Giri Nagar               1\n",
       "Kanakapura Road,           1\n",
       "Kanakapura main  Road      1\n",
       "Kannur                     1\n",
       "whitefiled                 1\n",
       "Name: location, Length: 1287, dtype: int64"
      ]
     },
     "execution_count": 25,
     "metadata": {},
     "output_type": "execute_result"
    }
   ],
   "source": [
    "location.sort_values(ascending=False)"
   ]
  },
  {
   "cell_type": "code",
   "execution_count": 26,
   "id": "e6f22641",
   "metadata": {},
   "outputs": [
    {
     "data": {
      "text/plain": [
       "1047"
      ]
     },
     "execution_count": 26,
     "metadata": {},
     "output_type": "execute_result"
    }
   ],
   "source": [
    "location_under_10 = location[location<=10]\n",
    "len(location_under_10)"
   ]
  },
  {
   "cell_type": "code",
   "execution_count": 27,
   "id": "58517fbe",
   "metadata": {},
   "outputs": [
    {
     "data": {
      "text/plain": [
       "1287"
      ]
     },
     "execution_count": 27,
     "metadata": {},
     "output_type": "execute_result"
    }
   ],
   "source": [
    "len(improved_data_frame2.location.unique())"
   ]
  },
  {
   "cell_type": "code",
   "execution_count": 28,
   "id": "25bed237",
   "metadata": {},
   "outputs": [],
   "source": [
    "def Dimentionality_reduction(x):\n",
    "    if x in location_under_10:\n",
    "        return 'other'\n",
    "    else:\n",
    "        return x"
   ]
  },
  {
   "cell_type": "code",
   "execution_count": 29,
   "id": "441b7cc0",
   "metadata": {},
   "outputs": [],
   "source": [
    "improved_data_frame2.location = improved_data_frame2.location.apply(Dimentionality_reduction)"
   ]
  },
  {
   "cell_type": "code",
   "execution_count": 30,
   "id": "caecdafe",
   "metadata": {},
   "outputs": [
    {
     "data": {
      "text/plain": [
       "array(['Electronic City Phase II', 'Chikka Tirupathi', 'Uttarahalli',\n",
       "       'Lingadheeranahalli', 'Kothanur', 'Whitefield', 'Old Airport Road',\n",
       "       'Rajaji Nagar', 'Marathahalli', 'other', '7th Phase JP Nagar',\n",
       "       'Gottigere', 'Sarjapur', 'Mysore Road', 'Bisuvanahalli',\n",
       "       'Raja Rajeshwari Nagar', 'Kengeri', 'Binny Pete', 'Thanisandra',\n",
       "       'Bellandur', 'Electronic City', 'Ramagondanahalli', 'Yelahanka',\n",
       "       'Hebbal', 'Kasturi Nagar', 'Kanakpura Road',\n",
       "       'Electronics City Phase 1', 'Kundalahalli', 'Chikkalasandra',\n",
       "       'Murugeshpalya', 'Sarjapur  Road', 'HSR Layout', 'Doddathoguru',\n",
       "       'KR Puram', 'Bhoganhalli', 'Lakshminarayana Pura', 'Begur Road',\n",
       "       'Varthur', 'Bommanahalli', 'Gunjur', 'Devarachikkanahalli',\n",
       "       'Hegde Nagar', 'Haralur Road', 'Hennur Road', 'Kothannur',\n",
       "       'Kalena Agrahara', 'Kaval Byrasandra', 'ISRO Layout',\n",
       "       'Garudachar Palya', 'EPIP Zone', 'Dasanapura', 'Kasavanhalli',\n",
       "       'Sanjay nagar', 'Domlur', 'Sarjapura - Attibele Road',\n",
       "       'Yeshwanthpur', 'Chandapura', 'Nagarbhavi', 'Devanahalli',\n",
       "       'Ramamurthy Nagar', 'Malleshwaram', 'Akshaya Nagar', 'Shampura',\n",
       "       'Kadugodi', 'LB Shastri Nagar', 'Hormavu', 'Vishwapriya Layout',\n",
       "       'Kudlu Gate', '8th Phase JP Nagar', 'Bommasandra Industrial Area',\n",
       "       'Anandapura', 'Vishveshwarya Layout', 'Kengeri Satellite Town',\n",
       "       'Kannamangala', 'Hulimavu', 'Mahalakshmi Layout', 'Hosa Road',\n",
       "       'Attibele', 'CV Raman Nagar', 'Kumaraswami Layout', 'Nagavara',\n",
       "       'Hebbal Kempapura', 'Vijayanagar', 'Pattandur Agrahara',\n",
       "       'Nagasandra', 'Kogilu', 'Panathur', 'Padmanabhanagar',\n",
       "       '1st Block Jayanagar', 'Kammasandra', 'Dasarahalli', 'Magadi Road',\n",
       "       'Koramangala', 'Dommasandra', 'Budigere', 'Kalyan nagar',\n",
       "       'OMBR Layout', 'Horamavu Agara', 'Ambedkar Nagar',\n",
       "       'Talaghattapura', 'Balagere', 'Jigani', 'Gollarapalya Hosahalli',\n",
       "       'Old Madras Road', 'Kaggadasapura', '9th Phase JP Nagar', 'Jakkur',\n",
       "       'TC Palaya', 'Giri Nagar', 'Singasandra', 'AECS Layout',\n",
       "       'Mallasandra', 'Begur', 'JP Nagar', 'Malleshpalya', 'Munnekollal',\n",
       "       'Kaggalipura', '6th Phase JP Nagar', 'Ulsoor', 'Thigalarapalya',\n",
       "       'Somasundara Palya', 'Basaveshwara Nagar', 'Bommasandra',\n",
       "       'Ardendale', 'Harlur', 'Kodihalli', 'Narayanapura',\n",
       "       'Bannerghatta Road', 'Hennur', '5th Phase JP Nagar', 'Kodigehaali',\n",
       "       'Billekahalli', 'Jalahalli', 'Mahadevpura', 'Anekal', 'Sompura',\n",
       "       'Dodda Nekkundi', 'Hosur Road', 'Battarahalli', 'Sultan Palaya',\n",
       "       'Ambalipura', 'Hoodi', 'Brookefield', 'Yelenahalli', 'Vittasandra',\n",
       "       '2nd Stage Nagarbhavi', 'Vidyaranyapura', 'Amruthahalli',\n",
       "       'Kodigehalli', 'Subramanyapura', 'Basavangudi', 'Kenchenahalli',\n",
       "       'Banjara Layout', 'Kereguddadahalli', 'Kambipura',\n",
       "       'Banashankari Stage III', 'Sector 7 HSR Layout', 'Rajiv Nagar',\n",
       "       'Arekere', 'Mico Layout', 'Kammanahalli', 'Banashankari',\n",
       "       'Chikkabanavar', 'HRBR Layout', 'Nehru Nagar', 'Kanakapura',\n",
       "       'Konanakunte', 'Margondanahalli', 'R.T. Nagar', 'Tumkur Road',\n",
       "       'Vasanthapura', 'GM Palaya', 'Jalahalli East', 'Hosakerehalli',\n",
       "       'Indira Nagar', 'Kodichikkanahalli', 'Varthur Road', 'Anjanapura',\n",
       "       'Abbigere', 'Tindlu', 'Gubbalala', 'Parappana Agrahara',\n",
       "       'Cunningham Road', 'Kudlu', 'Banashankari Stage VI', 'Cox Town',\n",
       "       'Kathriguppe', 'HBR Layout', 'Yelahanka New Town',\n",
       "       'Sahakara Nagar', 'Rachenahalli', 'Yelachenahalli',\n",
       "       'Green Glen Layout', 'Thubarahalli', 'Horamavu Banaswadi',\n",
       "       '1st Phase JP Nagar', 'NGR Layout', 'Seegehalli', 'BEML Layout',\n",
       "       'NRI Layout', 'ITPL', 'Babusapalaya', 'Iblur Village',\n",
       "       'Ananth Nagar', 'Channasandra', 'Choodasandra', 'Kaikondrahalli',\n",
       "       'Neeladri Nagar', 'Frazer Town', 'Cooke Town', 'Doddakallasandra',\n",
       "       'Chamrajpet', 'Rayasandra', '5th Block Hbr Layout', 'Pai Layout',\n",
       "       'Banashankari Stage V', 'Sonnenahalli', 'Benson Town',\n",
       "       '2nd Phase Judicial Layout', 'Poorna Pragna Layout',\n",
       "       'Judicial Layout', 'Banashankari Stage II', 'Karuna Nagar',\n",
       "       'Bannerghatta', 'Marsur', 'Bommenahalli', 'Laggere',\n",
       "       'Prithvi Layout', 'Banaswadi', 'Sector 2 HSR Layout',\n",
       "       'Shivaji Nagar', 'Badavala Nagar', 'Nagavarapalya', 'BTM Layout',\n",
       "       'BTM 2nd Stage', 'Hoskote', 'Doddaballapur', 'Sarakki Nagar',\n",
       "       'Bharathi Nagar', 'HAL 2nd Stage', 'Kadubeesanahalli'],\n",
       "      dtype=object)"
      ]
     },
     "execution_count": 30,
     "metadata": {},
     "output_type": "execute_result"
    }
   ],
   "source": [
    "#fetching all kinds of locations from locations column in a python list\n",
    "improved_data_frame2.location.unique()"
   ]
  },
  {
   "cell_type": "code",
   "execution_count": 31,
   "id": "25970a32",
   "metadata": {},
   "outputs": [
    {
     "data": {
      "text/plain": [
       "241"
      ]
     },
     "execution_count": 31,
     "metadata": {},
     "output_type": "execute_result"
    }
   ],
   "source": [
    "len(improved_data_frame2.location.unique())"
   ]
  },
  {
   "cell_type": "code",
   "execution_count": 32,
   "id": "628b56fa",
   "metadata": {
    "scrolled": true
   },
   "outputs": [
    {
     "data": {
      "text/plain": [
       "(13200, 7)"
      ]
     },
     "execution_count": 32,
     "metadata": {},
     "output_type": "execute_result"
    }
   ],
   "source": [
    "improved_data_frame2.shape"
   ]
  },
  {
   "cell_type": "markdown",
   "id": "4b0dd579",
   "metadata": {},
   "source": [
    "# Dealing with Outliers & Statistical Analysis"
   ]
  },
  {
   "cell_type": "markdown",
   "id": "21d7f67c",
   "metadata": {},
   "source": [
    "Outiers are the points which are not logically true values. They might be there due to multiple reasons like human error while collecting the data. These points needed to be remove to get true trend of data. In our data set there are some outliers such as there are points where prices of bedrooms apartment is higher than the price of 3 bedroom apartment for the same location and square feet value.\n",
    "In normal distribution most of the values exist around the mean. We will remove the outliers by removing all the values away from (mean-standard deviation) & (mean + standard deviation) on the axis. You can see from the picture also that the probability of values existing around the mean is about 99.73%."
   ]
  },
  {
   "attachments": {
    "image.png": {
     "image/png": "[encoded data removed]"
    }
   },
   "cell_type": "markdown",
   "id": "2e543f76",
   "metadata": {},
   "source": [
    "![image.png](attachment:image.png)"
   ]
  },
  {
   "cell_type": "code",
   "execution_count": 33,
   "id": "a8c8e368",
   "metadata": {},
   "outputs": [
    {
     "data": {
      "text/html": [
       "<div>\n",
       "<style scoped>\n",
       "    .dataframe tbody tr th:only-of-type {\n",
       "        vertical-align: middle;\n",
       "    }\n",
       "\n",
       "    .dataframe tbody tr th {\n",
       "        vertical-align: top;\n",
       "    }\n",
       "\n",
       "    .dataframe thead th {\n",
       "        text-align: right;\n",
       "    }\n",
       "</style>\n",
       "<table border=\"1\" class=\"dataframe\">\n",
       "  <thead>\n",
       "    <tr style=\"text-align: right;\">\n",
       "      <th></th>\n",
       "      <th>location</th>\n",
       "      <th>size</th>\n",
       "      <th>total_sqft</th>\n",
       "      <th>bath</th>\n",
       "      <th>price</th>\n",
       "      <th>bedrooms</th>\n",
       "      <th>price_per_sqft</th>\n",
       "    </tr>\n",
       "  </thead>\n",
       "  <tbody>\n",
       "    <tr>\n",
       "      <th>9</th>\n",
       "      <td>other</td>\n",
       "      <td>6 Bedroom</td>\n",
       "      <td>1020.0</td>\n",
       "      <td>6.0</td>\n",
       "      <td>370.0</td>\n",
       "      <td>6</td>\n",
       "      <td>36274.509804</td>\n",
       "    </tr>\n",
       "    <tr>\n",
       "      <th>45</th>\n",
       "      <td>HSR Layout</td>\n",
       "      <td>8 Bedroom</td>\n",
       "      <td>600.0</td>\n",
       "      <td>9.0</td>\n",
       "      <td>200.0</td>\n",
       "      <td>8</td>\n",
       "      <td>33333.333333</td>\n",
       "    </tr>\n",
       "    <tr>\n",
       "      <th>58</th>\n",
       "      <td>Murugeshpalya</td>\n",
       "      <td>6 Bedroom</td>\n",
       "      <td>1407.0</td>\n",
       "      <td>4.0</td>\n",
       "      <td>150.0</td>\n",
       "      <td>6</td>\n",
       "      <td>10660.980810</td>\n",
       "    </tr>\n",
       "    <tr>\n",
       "      <th>68</th>\n",
       "      <td>Devarachikkanahalli</td>\n",
       "      <td>8 Bedroom</td>\n",
       "      <td>1350.0</td>\n",
       "      <td>7.0</td>\n",
       "      <td>85.0</td>\n",
       "      <td>8</td>\n",
       "      <td>6296.296296</td>\n",
       "    </tr>\n",
       "    <tr>\n",
       "      <th>70</th>\n",
       "      <td>other</td>\n",
       "      <td>3 Bedroom</td>\n",
       "      <td>500.0</td>\n",
       "      <td>3.0</td>\n",
       "      <td>100.0</td>\n",
       "      <td>3</td>\n",
       "      <td>20000.000000</td>\n",
       "    </tr>\n",
       "    <tr>\n",
       "      <th>78</th>\n",
       "      <td>Kaval Byrasandra</td>\n",
       "      <td>2 BHK</td>\n",
       "      <td>460.0</td>\n",
       "      <td>1.0</td>\n",
       "      <td>22.0</td>\n",
       "      <td>2</td>\n",
       "      <td>4782.608696</td>\n",
       "    </tr>\n",
       "    <tr>\n",
       "      <th>89</th>\n",
       "      <td>Rajaji Nagar</td>\n",
       "      <td>6 Bedroom</td>\n",
       "      <td>710.0</td>\n",
       "      <td>6.0</td>\n",
       "      <td>160.0</td>\n",
       "      <td>6</td>\n",
       "      <td>22535.211268</td>\n",
       "    </tr>\n",
       "    <tr>\n",
       "      <th>119</th>\n",
       "      <td>Hennur Road</td>\n",
       "      <td>2 Bedroom</td>\n",
       "      <td>276.0</td>\n",
       "      <td>3.0</td>\n",
       "      <td>23.0</td>\n",
       "      <td>2</td>\n",
       "      <td>8333.333333</td>\n",
       "    </tr>\n",
       "    <tr>\n",
       "      <th>129</th>\n",
       "      <td>Vishwapriya Layout</td>\n",
       "      <td>7 Bedroom</td>\n",
       "      <td>950.0</td>\n",
       "      <td>7.0</td>\n",
       "      <td>115.0</td>\n",
       "      <td>7</td>\n",
       "      <td>12105.263158</td>\n",
       "    </tr>\n",
       "    <tr>\n",
       "      <th>149</th>\n",
       "      <td>other</td>\n",
       "      <td>6 Bedroom</td>\n",
       "      <td>1034.0</td>\n",
       "      <td>5.0</td>\n",
       "      <td>185.0</td>\n",
       "      <td>6</td>\n",
       "      <td>17891.682785</td>\n",
       "    </tr>\n",
       "  </tbody>\n",
       "</table>\n",
       "</div>"
      ],
      "text/plain": [
       "                location       size  total_sqft  bath  price  bedrooms  \\\n",
       "9                  other  6 Bedroom      1020.0   6.0  370.0         6   \n",
       "45            HSR Layout  8 Bedroom       600.0   9.0  200.0         8   \n",
       "58         Murugeshpalya  6 Bedroom      1407.0   4.0  150.0         6   \n",
       "68   Devarachikkanahalli  8 Bedroom      1350.0   7.0   85.0         8   \n",
       "70                 other  3 Bedroom       500.0   3.0  100.0         3   \n",
       "78      Kaval Byrasandra      2 BHK       460.0   1.0   22.0         2   \n",
       "89          Rajaji Nagar  6 Bedroom       710.0   6.0  160.0         6   \n",
       "119          Hennur Road  2 Bedroom       276.0   3.0   23.0         2   \n",
       "129   Vishwapriya Layout  7 Bedroom       950.0   7.0  115.0         7   \n",
       "149                other  6 Bedroom      1034.0   5.0  185.0         6   \n",
       "\n",
       "     price_per_sqft  \n",
       "9      36274.509804  \n",
       "45     33333.333333  \n",
       "58     10660.980810  \n",
       "68      6296.296296  \n",
       "70     20000.000000  \n",
       "78      4782.608696  \n",
       "89     22535.211268  \n",
       "119     8333.333333  \n",
       "129    12105.263158  \n",
       "149    17891.682785  "
      ]
     },
     "execution_count": 33,
     "metadata": {},
     "output_type": "execute_result"
    }
   ],
   "source": [
    "improved_data_frame2[improved_data_frame2.total_sqft/improved_data_frame2.bedrooms<300].head(10)"
   ]
  },
  {
   "cell_type": "markdown",
   "id": "674528c0",
   "metadata": {},
   "source": [
    "In order to understand outliers in our data set. Let's consider that the normal minimum square feet/bedroom is around 300. This threshold is market standard and set by real estate business men. Now you can see on row number 119 for 2 bedrooms is 276 which is logically wrong and is a outlier. We have to remove these outliers.\n",
    "\n",
    "And look at row number 9 and 45. For 6 bedrooms sqaure feet is 1020. But for 8 bedrooms square feet is 600. These are absolute anomalies in the data."
   ]
  },
  {
   "cell_type": "code",
   "execution_count": 34,
   "id": "e660d4cc",
   "metadata": {},
   "outputs": [],
   "source": [
    "# we will set a threshold and filter the outliers using one approach\n",
    "improved_data_frame2 = improved_data_frame2[~(improved_data_frame2.total_sqft/improved_data_frame2.bedrooms<300)]"
   ]
  },
  {
   "cell_type": "code",
   "execution_count": 35,
   "id": "629167a2",
   "metadata": {},
   "outputs": [
    {
     "data": {
      "text/plain": [
       "(12456, 7)"
      ]
     },
     "execution_count": 35,
     "metadata": {},
     "output_type": "execute_result"
    }
   ],
   "source": [
    "improved_data_frame2.shape"
   ]
  },
  {
   "cell_type": "markdown",
   "id": "9900f353",
   "metadata": {},
   "source": [
    "As described above, most of the values exist around mean of data. Now we will check mean of data of data and then remove all values other than the ones which exist around mean."
   ]
  },
  {
   "cell_type": "code",
   "execution_count": 36,
   "id": "1d1795ef",
   "metadata": {},
   "outputs": [
    {
     "data": {
      "text/plain": [
       "count     12456.000000\n",
       "mean       6308.502826\n",
       "std        4168.127339\n",
       "min         267.829813\n",
       "25%        4210.526316\n",
       "50%        5294.117647\n",
       "75%        6916.666667\n",
       "max      176470.588235\n",
       "Name: price_per_sqft, dtype: float64"
      ]
     },
     "execution_count": 36,
     "metadata": {},
     "output_type": "execute_result"
    }
   ],
   "source": [
    "improved_data_frame2.price_per_sqft.describe()"
   ]
  },
  {
   "cell_type": "markdown",
   "id": "42ee13e0",
   "metadata": {},
   "source": [
    "Minimum and maximum prices per square feet can be seen. Now we will remove the outliers using mean and one standard deviation in which probability of occurance of every value other than outlier is around 99.73%"
   ]
  },
  {
   "cell_type": "code",
   "execution_count": 37,
   "id": "b8f95736",
   "metadata": {},
   "outputs": [],
   "source": [
    "def Outliers_removal(data_frame):\n",
    "    df_output = pd.DataFrame()\n",
    "    for val, df in data_frame.groupby('location'):\n",
    "        #using numpy to calculate mean and standard deviation\n",
    "        m = np.mean(df.price_per_sqft)\n",
    "        st = np.std(df.price_per_sqft)\n",
    "        # condition from removing values that are one standard deviation away from x-axis \n",
    "        without_outliers_df = df[(df.price_per_sqft>(m-st)) & (df.price_per_sqft<=(m+st))]\n",
    "        df_output = pd.concat([df_output,without_outliers_df],ignore_index=True)\n",
    "    return df_output"
   ]
  },
  {
   "cell_type": "code",
   "execution_count": 38,
   "id": "68e650ab",
   "metadata": {},
   "outputs": [
    {
     "data": {
      "text/plain": [
       "(10242, 7)"
      ]
     },
     "execution_count": 38,
     "metadata": {},
     "output_type": "execute_result"
    }
   ],
   "source": [
    "improved_data_frame3 = Outliers_removal(improved_data_frame2)\n",
    "improved_data_frame3.shape"
   ]
  },
  {
   "cell_type": "markdown",
   "id": "730dd2ac",
   "metadata": {},
   "source": [
    "There are like 10,242 rows and 7 columns. It is very difficult to have insight of data just by looking at numbers and few rows. We will use scatter plot to check anomalies in the square feet per bedroom|"
   ]
  },
  {
   "cell_type": "markdown",
   "id": "67e7ca81",
   "metadata": {},
   "source": [
    "# Visualization of Anomalies Using Matplotlib"
   ]
  },
  {
   "cell_type": "code",
   "execution_count": 39,
   "id": "973a87eb",
   "metadata": {},
   "outputs": [],
   "source": [
    "import matplotlib\n",
    "def Scatter_plot(df,location):\n",
    "    #extracting all the data set for 2 bedrooms apartment from data\n",
    "    two_bedrooms = df[(df.location==location) & (df.bedrooms==2)]\n",
    "    #extracting all the data set for 2 bedrooms apartment from data\n",
    "    three_bedrooms = df[(df.location==location) & (df.bedrooms==3)]\n",
    "    #setting figure size of graph\n",
    "    matplotlib.rcParams['figure.figsize'] = (15,10)\n",
    "    \n",
    "    plt.scatter(two_bedrooms.total_sqft,two_bedrooms.price,color='red',label='2 bedrooms', s=50)\n",
    "    plt.scatter(three_bedrooms.total_sqft,three_bedrooms.price,marker='+', color='blue',label='3 bedrooms', s=50)\n",
    "    plt.xlabel(\"Total Square Feet Area\")\n",
    "    plt.ylabel(\"Price\")\n",
    "    plt.title(location)\n",
    "    #legend creates a box for indication on graph to difference between two plots based on their markers.\n",
    "    plt.legend()"
   ]
  },
  {
   "cell_type": "code",
   "execution_count": 40,
   "id": "d121c626",
   "metadata": {},
   "outputs": [
    {
     "data": {
      "image/png": "[encoded data removed]",
      "text/plain": [
       "<Figure size 1080x720 with 1 Axes>"
      ]
     },
     "metadata": {
      "needs_background": "light"
     },
     "output_type": "display_data"
    }
   ],
   "source": [
    "#Let's plot the graph for hebbal location\n",
    "Scatter_plot(improved_data_frame3,\"Hebbal\")"
   ]
  },
  {
   "cell_type": "markdown",
   "id": "446486c3",
   "metadata": {},
   "source": [
    "In particular location the prices will be almost same for the 2 and 3 bedroom apartments. You can observe from the graph that red dots (2 bedrooms apartment) of around 1300 sqft has price greater than the blue markers (3 bedrooms) for same sqaure feet. Which is a clear problem in the data set. we need to remove this also."
   ]
  },
  {
   "cell_type": "code",
   "execution_count": 41,
   "id": "921b8f43",
   "metadata": {},
   "outputs": [],
   "source": [
    "def Bedrooms_Outlier_Removal(data_frame):\n",
    "    array = np.array([])\n",
    "    for location, location_df in data_frame.groupby('location'):\n",
    "        bedrooms_stats = {}\n",
    "        for bedroom, bedrooms_df in location_df.groupby('bedrooms'):\n",
    "            bedrooms_stats[bedroom] = {\n",
    "                'mean': np.mean(bedrooms_df.price_per_sqft),\n",
    "                'std': np.std(bedrooms_df.price_per_sqft),\n",
    "                'count': bedrooms_df.shape[0]\n",
    "            }\n",
    "        for bedroom, bedrooms_df in location_df.groupby('bedrooms'):\n",
    "            stats = bedrooms_stats.get(bedroom-1)\n",
    "            if stats and stats['count']>5:\n",
    "                array = np.append(array, bedrooms_df[bedrooms_df.price_per_sqft<(stats['mean'])].index.values)\n",
    "    return data_frame.drop(array,axis='index')"
   ]
  },
  {
   "cell_type": "code",
   "execution_count": 42,
   "id": "928effd1",
   "metadata": {},
   "outputs": [],
   "source": [
    "improved_data_frame4 = Bedrooms_Outlier_Removal(improved_data_frame3)"
   ]
  },
  {
   "cell_type": "code",
   "execution_count": 43,
   "id": "649a4625",
   "metadata": {},
   "outputs": [
    {
     "data": {
      "text/plain": [
       "(7317, 7)"
      ]
     },
     "execution_count": 43,
     "metadata": {},
     "output_type": "execute_result"
    }
   ],
   "source": [
    "improved_data_frame4.shape"
   ]
  },
  {
   "cell_type": "markdown",
   "id": "88d5bc9a",
   "metadata": {},
   "source": [
    "As all the outliers are removed because we remove all the values of bedrooms which have price less than the mean price of 1 bedroom apartment"
   ]
  },
  {
   "cell_type": "code",
   "execution_count": 44,
   "id": "e1a24536",
   "metadata": {},
   "outputs": [
    {
     "data": {
      "image/png": "[encoded data removed]",
      "text/plain": [
       "<Figure size 1080x720 with 1 Axes>"
      ]
     },
     "metadata": {
      "needs_background": "light"
     },
     "output_type": "display_data"
    }
   ],
   "source": [
    "#Plot after outlier removal\n",
    "Scatter_plot(improved_data_frame4,\"Hebbal\")"
   ]
  },
  {
   "cell_type": "markdown",
   "id": "5654210c",
   "metadata": {},
   "source": [
    "Now we can see almost all the outliers are removed. All the values are logical in the data set"
   ]
  },
  {
   "cell_type": "markdown",
   "id": "9b6d8073",
   "metadata": {},
   "source": [
    "Now we will see the type of distribution, kurtosis and skewness of our data using prices per square feet"
   ]
  },
  {
   "cell_type": "code",
   "execution_count": 45,
   "id": "73971e0f",
   "metadata": {},
   "outputs": [
    {
     "data": {
      "text/plain": [
       "Text(0, 0.5, 'Count')"
      ]
     },
     "execution_count": 45,
     "metadata": {},
     "output_type": "execute_result"
    },
    {
     "data": {
      "image/png": "[encoded data removed]",
      "text/plain": [
       "<Figure size 1080x720 with 1 Axes>"
      ]
     },
     "metadata": {
      "needs_background": "light"
     },
     "output_type": "display_data"
    }
   ],
   "source": [
    "plt.hist(improved_data_frame4.price_per_sqft,rwidth=0.7, color = 'g')\n",
    "plt.xlabel(\"Price Per Square Feet\")\n",
    "plt.ylabel(\"Count\")\n"
   ]
  },
  {
   "cell_type": "markdown",
   "id": "0b809f97",
   "metadata": {},
   "source": [
    "We can clearly see from the histogram that, most of the aparments are of 2 bedrooms with price per square feet 5000. Graph depicts that distribution is Normal and kurtosis is leptokurtic and it is negatively Skewed because most of the data exist before mean "
   ]
  },
  {
   "cell_type": "code",
   "execution_count": 46,
   "id": "fd1c2017",
   "metadata": {},
   "outputs": [
    {
     "data": {
      "text/plain": [
       "(7239, 7)"
      ]
     },
     "execution_count": 46,
     "metadata": {},
     "output_type": "execute_result"
    }
   ],
   "source": [
    "# Removing outliers in bath column\n",
    "improved_data_frame5 = improved_data_frame4[improved_data_frame4.bath<improved_data_frame4.bedrooms+2]\n",
    "improved_data_frame5.shape"
   ]
  },
  {
   "cell_type": "markdown",
   "id": "8d711697",
   "metadata": {},
   "source": [
    "# 1NF (First Normal Form) After Pre-processing and Analysis"
   ]
  },
  {
   "cell_type": "code",
   "execution_count": 47,
   "id": "50e7093c",
   "metadata": {},
   "outputs": [],
   "source": [
    "final_data_frame = improved_data_frame5.drop(['size','price_per_sqft'], axis = 'columns')"
   ]
  },
  {
   "cell_type": "code",
   "execution_count": 48,
   "id": "3dfba80d",
   "metadata": {},
   "outputs": [
    {
     "data": {
      "text/html": [
       "<div>\n",
       "<style scoped>\n",
       "    .dataframe tbody tr th:only-of-type {\n",
       "        vertical-align: middle;\n",
       "    }\n",
       "\n",
       "    .dataframe tbody tr th {\n",
       "        vertical-align: top;\n",
       "    }\n",
       "\n",
       "    .dataframe thead th {\n",
       "        text-align: right;\n",
       "    }\n",
       "</style>\n",
       "<table border=\"1\" class=\"dataframe\">\n",
       "  <thead>\n",
       "    <tr style=\"text-align: right;\">\n",
       "      <th></th>\n",
       "      <th>location</th>\n",
       "      <th>total_sqft</th>\n",
       "      <th>bath</th>\n",
       "      <th>price</th>\n",
       "      <th>bedrooms</th>\n",
       "    </tr>\n",
       "  </thead>\n",
       "  <tbody>\n",
       "    <tr>\n",
       "      <th>0</th>\n",
       "      <td>1st Block Jayanagar</td>\n",
       "      <td>2850.0</td>\n",
       "      <td>4.0</td>\n",
       "      <td>428.0</td>\n",
       "      <td>4</td>\n",
       "    </tr>\n",
       "    <tr>\n",
       "      <th>1</th>\n",
       "      <td>1st Block Jayanagar</td>\n",
       "      <td>1630.0</td>\n",
       "      <td>3.0</td>\n",
       "      <td>194.0</td>\n",
       "      <td>3</td>\n",
       "    </tr>\n",
       "    <tr>\n",
       "      <th>2</th>\n",
       "      <td>1st Block Jayanagar</td>\n",
       "      <td>1875.0</td>\n",
       "      <td>2.0</td>\n",
       "      <td>235.0</td>\n",
       "      <td>3</td>\n",
       "    </tr>\n",
       "    <tr>\n",
       "      <th>3</th>\n",
       "      <td>1st Block Jayanagar</td>\n",
       "      <td>1200.0</td>\n",
       "      <td>2.0</td>\n",
       "      <td>130.0</td>\n",
       "      <td>3</td>\n",
       "    </tr>\n",
       "    <tr>\n",
       "      <th>4</th>\n",
       "      <td>1st Block Jayanagar</td>\n",
       "      <td>1235.0</td>\n",
       "      <td>2.0</td>\n",
       "      <td>148.0</td>\n",
       "      <td>2</td>\n",
       "    </tr>\n",
       "  </tbody>\n",
       "</table>\n",
       "</div>"
      ],
      "text/plain": [
       "              location  total_sqft  bath  price  bedrooms\n",
       "0  1st Block Jayanagar      2850.0   4.0  428.0         4\n",
       "1  1st Block Jayanagar      1630.0   3.0  194.0         3\n",
       "2  1st Block Jayanagar      1875.0   2.0  235.0         3\n",
       "3  1st Block Jayanagar      1200.0   2.0  130.0         3\n",
       "4  1st Block Jayanagar      1235.0   2.0  148.0         2"
      ]
     },
     "execution_count": 48,
     "metadata": {},
     "output_type": "execute_result"
    }
   ],
   "source": [
    "final_data_frame.head()"
   ]
  },
  {
   "cell_type": "markdown",
   "id": "b974123f",
   "metadata": {},
   "source": [
    "We have dropped the size column because and we have already created separate column bedrooms for that by extracting integer value from it. The price per square feet is also dropped because it was only created to detect and remove outliers. "
   ]
  },
  {
   "cell_type": "markdown",
   "id": "3543d4cf",
   "metadata": {},
   "source": [
    "# Building Machine Learning Model"
   ]
  },
  {
   "cell_type": "markdown",
   "id": "9f833bdb",
   "metadata": {},
   "source": [
    "Now we have a column of locations which has strings. As we know ML model does not work with strings. We need to some how convert it into integers. We will use the very famous technique of one hot encoding. For each row we will give integer value of 1 to that location row and will assign integer value 0 to other locations. We will do this each row.\n",
    "\n",
    "You can learn more about that from the following link: https://machinelearningmastery.com/why-one-hot-encode-data-in-machine-learning/"
   ]
  },
  {
   "cell_type": "code",
   "execution_count": 49,
   "id": "999d5a03",
   "metadata": {},
   "outputs": [],
   "source": [
    "Encoded_data = pd.get_dummies(final_data_frame.location)"
   ]
  },
  {
   "cell_type": "code",
   "execution_count": 50,
   "id": "60f53335",
   "metadata": {},
   "outputs": [
    {
     "data": {
      "text/html": [
       "<div>\n",
       "<style scoped>\n",
       "    .dataframe tbody tr th:only-of-type {\n",
       "        vertical-align: middle;\n",
       "    }\n",
       "\n",
       "    .dataframe tbody tr th {\n",
       "        vertical-align: top;\n",
       "    }\n",
       "\n",
       "    .dataframe thead th {\n",
       "        text-align: right;\n",
       "    }\n",
       "</style>\n",
       "<table border=\"1\" class=\"dataframe\">\n",
       "  <thead>\n",
       "    <tr style=\"text-align: right;\">\n",
       "      <th></th>\n",
       "      <th>1st Block Jayanagar</th>\n",
       "      <th>1st Phase JP Nagar</th>\n",
       "      <th>2nd Phase Judicial Layout</th>\n",
       "      <th>2nd Stage Nagarbhavi</th>\n",
       "      <th>5th Block Hbr Layout</th>\n",
       "      <th>5th Phase JP Nagar</th>\n",
       "      <th>6th Phase JP Nagar</th>\n",
       "      <th>7th Phase JP Nagar</th>\n",
       "      <th>8th Phase JP Nagar</th>\n",
       "      <th>9th Phase JP Nagar</th>\n",
       "      <th>...</th>\n",
       "      <th>Vishveshwarya Layout</th>\n",
       "      <th>Vishwapriya Layout</th>\n",
       "      <th>Vittasandra</th>\n",
       "      <th>Whitefield</th>\n",
       "      <th>Yelachenahalli</th>\n",
       "      <th>Yelahanka</th>\n",
       "      <th>Yelahanka New Town</th>\n",
       "      <th>Yelenahalli</th>\n",
       "      <th>Yeshwanthpur</th>\n",
       "      <th>other</th>\n",
       "    </tr>\n",
       "  </thead>\n",
       "  <tbody>\n",
       "    <tr>\n",
       "      <th>0</th>\n",
       "      <td>1</td>\n",
       "      <td>0</td>\n",
       "      <td>0</td>\n",
       "      <td>0</td>\n",
       "      <td>0</td>\n",
       "      <td>0</td>\n",
       "      <td>0</td>\n",
       "      <td>0</td>\n",
       "      <td>0</td>\n",
       "      <td>0</td>\n",
       "      <td>...</td>\n",
       "      <td>0</td>\n",
       "      <td>0</td>\n",
       "      <td>0</td>\n",
       "      <td>0</td>\n",
       "      <td>0</td>\n",
       "      <td>0</td>\n",
       "      <td>0</td>\n",
       "      <td>0</td>\n",
       "      <td>0</td>\n",
       "      <td>0</td>\n",
       "    </tr>\n",
       "    <tr>\n",
       "      <th>1</th>\n",
       "      <td>1</td>\n",
       "      <td>0</td>\n",
       "      <td>0</td>\n",
       "      <td>0</td>\n",
       "      <td>0</td>\n",
       "      <td>0</td>\n",
       "      <td>0</td>\n",
       "      <td>0</td>\n",
       "      <td>0</td>\n",
       "      <td>0</td>\n",
       "      <td>...</td>\n",
       "      <td>0</td>\n",
       "      <td>0</td>\n",
       "      <td>0</td>\n",
       "      <td>0</td>\n",
       "      <td>0</td>\n",
       "      <td>0</td>\n",
       "      <td>0</td>\n",
       "      <td>0</td>\n",
       "      <td>0</td>\n",
       "      <td>0</td>\n",
       "    </tr>\n",
       "    <tr>\n",
       "      <th>2</th>\n",
       "      <td>1</td>\n",
       "      <td>0</td>\n",
       "      <td>0</td>\n",
       "      <td>0</td>\n",
       "      <td>0</td>\n",
       "      <td>0</td>\n",
       "      <td>0</td>\n",
       "      <td>0</td>\n",
       "      <td>0</td>\n",
       "      <td>0</td>\n",
       "      <td>...</td>\n",
       "      <td>0</td>\n",
       "      <td>0</td>\n",
       "      <td>0</td>\n",
       "      <td>0</td>\n",
       "      <td>0</td>\n",
       "      <td>0</td>\n",
       "      <td>0</td>\n",
       "      <td>0</td>\n",
       "      <td>0</td>\n",
       "      <td>0</td>\n",
       "    </tr>\n",
       "    <tr>\n",
       "      <th>3</th>\n",
       "      <td>1</td>\n",
       "      <td>0</td>\n",
       "      <td>0</td>\n",
       "      <td>0</td>\n",
       "      <td>0</td>\n",
       "      <td>0</td>\n",
       "      <td>0</td>\n",
       "      <td>0</td>\n",
       "      <td>0</td>\n",
       "      <td>0</td>\n",
       "      <td>...</td>\n",
       "      <td>0</td>\n",
       "      <td>0</td>\n",
       "      <td>0</td>\n",
       "      <td>0</td>\n",
       "      <td>0</td>\n",
       "      <td>0</td>\n",
       "      <td>0</td>\n",
       "      <td>0</td>\n",
       "      <td>0</td>\n",
       "      <td>0</td>\n",
       "    </tr>\n",
       "    <tr>\n",
       "      <th>4</th>\n",
       "      <td>1</td>\n",
       "      <td>0</td>\n",
       "      <td>0</td>\n",
       "      <td>0</td>\n",
       "      <td>0</td>\n",
       "      <td>0</td>\n",
       "      <td>0</td>\n",
       "      <td>0</td>\n",
       "      <td>0</td>\n",
       "      <td>0</td>\n",
       "      <td>...</td>\n",
       "      <td>0</td>\n",
       "      <td>0</td>\n",
       "      <td>0</td>\n",
       "      <td>0</td>\n",
       "      <td>0</td>\n",
       "      <td>0</td>\n",
       "      <td>0</td>\n",
       "      <td>0</td>\n",
       "      <td>0</td>\n",
       "      <td>0</td>\n",
       "    </tr>\n",
       "  </tbody>\n",
       "</table>\n",
       "<p>5 rows × 241 columns</p>\n",
       "</div>"
      ],
      "text/plain": [
       "   1st Block Jayanagar  1st Phase JP Nagar  2nd Phase Judicial Layout  \\\n",
       "0                    1                   0                          0   \n",
       "1                    1                   0                          0   \n",
       "2                    1                   0                          0   \n",
       "3                    1                   0                          0   \n",
       "4                    1                   0                          0   \n",
       "\n",
       "   2nd Stage Nagarbhavi  5th Block Hbr Layout  5th Phase JP Nagar  \\\n",
       "0                     0                     0                   0   \n",
       "1                     0                     0                   0   \n",
       "2                     0                     0                   0   \n",
       "3                     0                     0                   0   \n",
       "4                     0                     0                   0   \n",
       "\n",
       "   6th Phase JP Nagar  7th Phase JP Nagar  8th Phase JP Nagar  \\\n",
       "0                   0                   0                   0   \n",
       "1                   0                   0                   0   \n",
       "2                   0                   0                   0   \n",
       "3                   0                   0                   0   \n",
       "4                   0                   0                   0   \n",
       "\n",
       "   9th Phase JP Nagar  ...  Vishveshwarya Layout  Vishwapriya Layout  \\\n",
       "0                   0  ...                     0                   0   \n",
       "1                   0  ...                     0                   0   \n",
       "2                   0  ...                     0                   0   \n",
       "3                   0  ...                     0                   0   \n",
       "4                   0  ...                     0                   0   \n",
       "\n",
       "   Vittasandra  Whitefield  Yelachenahalli  Yelahanka  Yelahanka New Town  \\\n",
       "0            0           0               0          0                   0   \n",
       "1            0           0               0          0                   0   \n",
       "2            0           0               0          0                   0   \n",
       "3            0           0               0          0                   0   \n",
       "4            0           0               0          0                   0   \n",
       "\n",
       "   Yelenahalli  Yeshwanthpur  other  \n",
       "0            0             0      0  \n",
       "1            0             0      0  \n",
       "2            0             0      0  \n",
       "3            0             0      0  \n",
       "4            0             0      0  \n",
       "\n",
       "[5 rows x 241 columns]"
      ]
     },
     "execution_count": 50,
     "metadata": {},
     "output_type": "execute_result"
    }
   ],
   "source": [
    "Encoded_data.head(5)"
   ]
  },
  {
   "cell_type": "code",
   "execution_count": 51,
   "id": "4b1f2534",
   "metadata": {},
   "outputs": [],
   "source": [
    "raw_frame = pd.concat([final_data_frame,Encoded_data.drop('other',axis='columns')],axis='columns')"
   ]
  },
  {
   "cell_type": "code",
   "execution_count": 52,
   "id": "e45ed781",
   "metadata": {},
   "outputs": [
    {
     "data": {
      "text/plain": [
       "(7239, 245)"
      ]
     },
     "execution_count": 52,
     "metadata": {},
     "output_type": "execute_result"
    }
   ],
   "source": [
    "raw_frame.shape"
   ]
  },
  {
   "cell_type": "code",
   "execution_count": 53,
   "id": "b6a8db22",
   "metadata": {},
   "outputs": [
    {
     "data": {
      "text/html": [
       "<div>\n",
       "<style scoped>\n",
       "    .dataframe tbody tr th:only-of-type {\n",
       "        vertical-align: middle;\n",
       "    }\n",
       "\n",
       "    .dataframe tbody tr th {\n",
       "        vertical-align: top;\n",
       "    }\n",
       "\n",
       "    .dataframe thead th {\n",
       "        text-align: right;\n",
       "    }\n",
       "</style>\n",
       "<table border=\"1\" class=\"dataframe\">\n",
       "  <thead>\n",
       "    <tr style=\"text-align: right;\">\n",
       "      <th></th>\n",
       "      <th>total_sqft</th>\n",
       "      <th>bath</th>\n",
       "      <th>price</th>\n",
       "      <th>bedrooms</th>\n",
       "      <th>1st Block Jayanagar</th>\n",
       "      <th>1st Phase JP Nagar</th>\n",
       "      <th>2nd Phase Judicial Layout</th>\n",
       "      <th>2nd Stage Nagarbhavi</th>\n",
       "      <th>5th Block Hbr Layout</th>\n",
       "      <th>5th Phase JP Nagar</th>\n",
       "      <th>...</th>\n",
       "      <th>Vijayanagar</th>\n",
       "      <th>Vishveshwarya Layout</th>\n",
       "      <th>Vishwapriya Layout</th>\n",
       "      <th>Vittasandra</th>\n",
       "      <th>Whitefield</th>\n",
       "      <th>Yelachenahalli</th>\n",
       "      <th>Yelahanka</th>\n",
       "      <th>Yelahanka New Town</th>\n",
       "      <th>Yelenahalli</th>\n",
       "      <th>Yeshwanthpur</th>\n",
       "    </tr>\n",
       "  </thead>\n",
       "  <tbody>\n",
       "    <tr>\n",
       "      <th>0</th>\n",
       "      <td>2850.0</td>\n",
       "      <td>4.0</td>\n",
       "      <td>428.0</td>\n",
       "      <td>4</td>\n",
       "      <td>1</td>\n",
       "      <td>0</td>\n",
       "      <td>0</td>\n",
       "      <td>0</td>\n",
       "      <td>0</td>\n",
       "      <td>0</td>\n",
       "      <td>...</td>\n",
       "      <td>0</td>\n",
       "      <td>0</td>\n",
       "      <td>0</td>\n",
       "      <td>0</td>\n",
       "      <td>0</td>\n",
       "      <td>0</td>\n",
       "      <td>0</td>\n",
       "      <td>0</td>\n",
       "      <td>0</td>\n",
       "      <td>0</td>\n",
       "    </tr>\n",
       "    <tr>\n",
       "      <th>1</th>\n",
       "      <td>1630.0</td>\n",
       "      <td>3.0</td>\n",
       "      <td>194.0</td>\n",
       "      <td>3</td>\n",
       "      <td>1</td>\n",
       "      <td>0</td>\n",
       "      <td>0</td>\n",
       "      <td>0</td>\n",
       "      <td>0</td>\n",
       "      <td>0</td>\n",
       "      <td>...</td>\n",
       "      <td>0</td>\n",
       "      <td>0</td>\n",
       "      <td>0</td>\n",
       "      <td>0</td>\n",
       "      <td>0</td>\n",
       "      <td>0</td>\n",
       "      <td>0</td>\n",
       "      <td>0</td>\n",
       "      <td>0</td>\n",
       "      <td>0</td>\n",
       "    </tr>\n",
       "    <tr>\n",
       "      <th>2</th>\n",
       "      <td>1875.0</td>\n",
       "      <td>2.0</td>\n",
       "      <td>235.0</td>\n",
       "      <td>3</td>\n",
       "      <td>1</td>\n",
       "      <td>0</td>\n",
       "      <td>0</td>\n",
       "      <td>0</td>\n",
       "      <td>0</td>\n",
       "      <td>0</td>\n",
       "      <td>...</td>\n",
       "      <td>0</td>\n",
       "      <td>0</td>\n",
       "      <td>0</td>\n",
       "      <td>0</td>\n",
       "      <td>0</td>\n",
       "      <td>0</td>\n",
       "      <td>0</td>\n",
       "      <td>0</td>\n",
       "      <td>0</td>\n",
       "      <td>0</td>\n",
       "    </tr>\n",
       "    <tr>\n",
       "      <th>3</th>\n",
       "      <td>1200.0</td>\n",
       "      <td>2.0</td>\n",
       "      <td>130.0</td>\n",
       "      <td>3</td>\n",
       "      <td>1</td>\n",
       "      <td>0</td>\n",
       "      <td>0</td>\n",
       "      <td>0</td>\n",
       "      <td>0</td>\n",
       "      <td>0</td>\n",
       "      <td>...</td>\n",
       "      <td>0</td>\n",
       "      <td>0</td>\n",
       "      <td>0</td>\n",
       "      <td>0</td>\n",
       "      <td>0</td>\n",
       "      <td>0</td>\n",
       "      <td>0</td>\n",
       "      <td>0</td>\n",
       "      <td>0</td>\n",
       "      <td>0</td>\n",
       "    </tr>\n",
       "    <tr>\n",
       "      <th>4</th>\n",
       "      <td>1235.0</td>\n",
       "      <td>2.0</td>\n",
       "      <td>148.0</td>\n",
       "      <td>2</td>\n",
       "      <td>1</td>\n",
       "      <td>0</td>\n",
       "      <td>0</td>\n",
       "      <td>0</td>\n",
       "      <td>0</td>\n",
       "      <td>0</td>\n",
       "      <td>...</td>\n",
       "      <td>0</td>\n",
       "      <td>0</td>\n",
       "      <td>0</td>\n",
       "      <td>0</td>\n",
       "      <td>0</td>\n",
       "      <td>0</td>\n",
       "      <td>0</td>\n",
       "      <td>0</td>\n",
       "      <td>0</td>\n",
       "      <td>0</td>\n",
       "    </tr>\n",
       "  </tbody>\n",
       "</table>\n",
       "<p>5 rows × 244 columns</p>\n",
       "</div>"
      ],
      "text/plain": [
       "   total_sqft  bath  price  bedrooms  1st Block Jayanagar  1st Phase JP Nagar  \\\n",
       "0      2850.0   4.0  428.0         4                    1                   0   \n",
       "1      1630.0   3.0  194.0         3                    1                   0   \n",
       "2      1875.0   2.0  235.0         3                    1                   0   \n",
       "3      1200.0   2.0  130.0         3                    1                   0   \n",
       "4      1235.0   2.0  148.0         2                    1                   0   \n",
       "\n",
       "   2nd Phase Judicial Layout  2nd Stage Nagarbhavi  5th Block Hbr Layout  \\\n",
       "0                          0                     0                     0   \n",
       "1                          0                     0                     0   \n",
       "2                          0                     0                     0   \n",
       "3                          0                     0                     0   \n",
       "4                          0                     0                     0   \n",
       "\n",
       "   5th Phase JP Nagar  ...  Vijayanagar  Vishveshwarya Layout  \\\n",
       "0                   0  ...            0                     0   \n",
       "1                   0  ...            0                     0   \n",
       "2                   0  ...            0                     0   \n",
       "3                   0  ...            0                     0   \n",
       "4                   0  ...            0                     0   \n",
       "\n",
       "   Vishwapriya Layout  Vittasandra  Whitefield  Yelachenahalli  Yelahanka  \\\n",
       "0                   0            0           0               0          0   \n",
       "1                   0            0           0               0          0   \n",
       "2                   0            0           0               0          0   \n",
       "3                   0            0           0               0          0   \n",
       "4                   0            0           0               0          0   \n",
       "\n",
       "   Yelahanka New Town  Yelenahalli  Yeshwanthpur  \n",
       "0                   0            0             0  \n",
       "1                   0            0             0  \n",
       "2                   0            0             0  \n",
       "3                   0            0             0  \n",
       "4                   0            0             0  \n",
       "\n",
       "[5 rows x 244 columns]"
      ]
     },
     "execution_count": 53,
     "metadata": {},
     "output_type": "execute_result"
    }
   ],
   "source": [
    "final_data_set = raw_frame.drop('location', axis = 'columns')\n",
    "final_data_set.head(5)"
   ]
  },
  {
   "cell_type": "markdown",
   "id": "5ccc8524",
   "metadata": {},
   "source": [
    "We can now remove the location column because it is one hot encoded and is useless for us"
   ]
  },
  {
   "cell_type": "markdown",
   "id": "abaf256d",
   "metadata": {},
   "source": [
    "# Linear Regression Model"
   ]
  },
  {
   "cell_type": "markdown",
   "id": "4ad651ba",
   "metadata": {},
   "source": [
    "As we know this is a supervised learning problem. So, we will define the input as X and output as Y"
   ]
  },
  {
   "cell_type": "code",
   "execution_count": 54,
   "id": "ebe760bf",
   "metadata": {},
   "outputs": [
    {
     "data": {
      "text/html": [
       "<div>\n",
       "<style scoped>\n",
       "    .dataframe tbody tr th:only-of-type {\n",
       "        vertical-align: middle;\n",
       "    }\n",
       "\n",
       "    .dataframe tbody tr th {\n",
       "        vertical-align: top;\n",
       "    }\n",
       "\n",
       "    .dataframe thead th {\n",
       "        text-align: right;\n",
       "    }\n",
       "</style>\n",
       "<table border=\"1\" class=\"dataframe\">\n",
       "  <thead>\n",
       "    <tr style=\"text-align: right;\">\n",
       "      <th></th>\n",
       "      <th>total_sqft</th>\n",
       "      <th>bath</th>\n",
       "      <th>bedrooms</th>\n",
       "      <th>1st Block Jayanagar</th>\n",
       "      <th>1st Phase JP Nagar</th>\n",
       "      <th>2nd Phase Judicial Layout</th>\n",
       "      <th>2nd Stage Nagarbhavi</th>\n",
       "      <th>5th Block Hbr Layout</th>\n",
       "      <th>5th Phase JP Nagar</th>\n",
       "      <th>6th Phase JP Nagar</th>\n",
       "      <th>...</th>\n",
       "      <th>Vijayanagar</th>\n",
       "      <th>Vishveshwarya Layout</th>\n",
       "      <th>Vishwapriya Layout</th>\n",
       "      <th>Vittasandra</th>\n",
       "      <th>Whitefield</th>\n",
       "      <th>Yelachenahalli</th>\n",
       "      <th>Yelahanka</th>\n",
       "      <th>Yelahanka New Town</th>\n",
       "      <th>Yelenahalli</th>\n",
       "      <th>Yeshwanthpur</th>\n",
       "    </tr>\n",
       "  </thead>\n",
       "  <tbody>\n",
       "    <tr>\n",
       "      <th>0</th>\n",
       "      <td>2850.0</td>\n",
       "      <td>4.0</td>\n",
       "      <td>4</td>\n",
       "      <td>1</td>\n",
       "      <td>0</td>\n",
       "      <td>0</td>\n",
       "      <td>0</td>\n",
       "      <td>0</td>\n",
       "      <td>0</td>\n",
       "      <td>0</td>\n",
       "      <td>...</td>\n",
       "      <td>0</td>\n",
       "      <td>0</td>\n",
       "      <td>0</td>\n",
       "      <td>0</td>\n",
       "      <td>0</td>\n",
       "      <td>0</td>\n",
       "      <td>0</td>\n",
       "      <td>0</td>\n",
       "      <td>0</td>\n",
       "      <td>0</td>\n",
       "    </tr>\n",
       "    <tr>\n",
       "      <th>1</th>\n",
       "      <td>1630.0</td>\n",
       "      <td>3.0</td>\n",
       "      <td>3</td>\n",
       "      <td>1</td>\n",
       "      <td>0</td>\n",
       "      <td>0</td>\n",
       "      <td>0</td>\n",
       "      <td>0</td>\n",
       "      <td>0</td>\n",
       "      <td>0</td>\n",
       "      <td>...</td>\n",
       "      <td>0</td>\n",
       "      <td>0</td>\n",
       "      <td>0</td>\n",
       "      <td>0</td>\n",
       "      <td>0</td>\n",
       "      <td>0</td>\n",
       "      <td>0</td>\n",
       "      <td>0</td>\n",
       "      <td>0</td>\n",
       "      <td>0</td>\n",
       "    </tr>\n",
       "    <tr>\n",
       "      <th>2</th>\n",
       "      <td>1875.0</td>\n",
       "      <td>2.0</td>\n",
       "      <td>3</td>\n",
       "      <td>1</td>\n",
       "      <td>0</td>\n",
       "      <td>0</td>\n",
       "      <td>0</td>\n",
       "      <td>0</td>\n",
       "      <td>0</td>\n",
       "      <td>0</td>\n",
       "      <td>...</td>\n",
       "      <td>0</td>\n",
       "      <td>0</td>\n",
       "      <td>0</td>\n",
       "      <td>0</td>\n",
       "      <td>0</td>\n",
       "      <td>0</td>\n",
       "      <td>0</td>\n",
       "      <td>0</td>\n",
       "      <td>0</td>\n",
       "      <td>0</td>\n",
       "    </tr>\n",
       "    <tr>\n",
       "      <th>3</th>\n",
       "      <td>1200.0</td>\n",
       "      <td>2.0</td>\n",
       "      <td>3</td>\n",
       "      <td>1</td>\n",
       "      <td>0</td>\n",
       "      <td>0</td>\n",
       "      <td>0</td>\n",
       "      <td>0</td>\n",
       "      <td>0</td>\n",
       "      <td>0</td>\n",
       "      <td>...</td>\n",
       "      <td>0</td>\n",
       "      <td>0</td>\n",
       "      <td>0</td>\n",
       "      <td>0</td>\n",
       "      <td>0</td>\n",
       "      <td>0</td>\n",
       "      <td>0</td>\n",
       "      <td>0</td>\n",
       "      <td>0</td>\n",
       "      <td>0</td>\n",
       "    </tr>\n",
       "    <tr>\n",
       "      <th>4</th>\n",
       "      <td>1235.0</td>\n",
       "      <td>2.0</td>\n",
       "      <td>2</td>\n",
       "      <td>1</td>\n",
       "      <td>0</td>\n",
       "      <td>0</td>\n",
       "      <td>0</td>\n",
       "      <td>0</td>\n",
       "      <td>0</td>\n",
       "      <td>0</td>\n",
       "      <td>...</td>\n",
       "      <td>0</td>\n",
       "      <td>0</td>\n",
       "      <td>0</td>\n",
       "      <td>0</td>\n",
       "      <td>0</td>\n",
       "      <td>0</td>\n",
       "      <td>0</td>\n",
       "      <td>0</td>\n",
       "      <td>0</td>\n",
       "      <td>0</td>\n",
       "    </tr>\n",
       "  </tbody>\n",
       "</table>\n",
       "<p>5 rows × 243 columns</p>\n",
       "</div>"
      ],
      "text/plain": [
       "   total_sqft  bath  bedrooms  1st Block Jayanagar  1st Phase JP Nagar  \\\n",
       "0      2850.0   4.0         4                    1                   0   \n",
       "1      1630.0   3.0         3                    1                   0   \n",
       "2      1875.0   2.0         3                    1                   0   \n",
       "3      1200.0   2.0         3                    1                   0   \n",
       "4      1235.0   2.0         2                    1                   0   \n",
       "\n",
       "   2nd Phase Judicial Layout  2nd Stage Nagarbhavi  5th Block Hbr Layout  \\\n",
       "0                          0                     0                     0   \n",
       "1                          0                     0                     0   \n",
       "2                          0                     0                     0   \n",
       "3                          0                     0                     0   \n",
       "4                          0                     0                     0   \n",
       "\n",
       "   5th Phase JP Nagar  6th Phase JP Nagar  ...  Vijayanagar  \\\n",
       "0                   0                   0  ...            0   \n",
       "1                   0                   0  ...            0   \n",
       "2                   0                   0  ...            0   \n",
       "3                   0                   0  ...            0   \n",
       "4                   0                   0  ...            0   \n",
       "\n",
       "   Vishveshwarya Layout  Vishwapriya Layout  Vittasandra  Whitefield  \\\n",
       "0                     0                   0            0           0   \n",
       "1                     0                   0            0           0   \n",
       "2                     0                   0            0           0   \n",
       "3                     0                   0            0           0   \n",
       "4                     0                   0            0           0   \n",
       "\n",
       "   Yelachenahalli  Yelahanka  Yelahanka New Town  Yelenahalli  Yeshwanthpur  \n",
       "0               0          0                   0            0             0  \n",
       "1               0          0                   0            0             0  \n",
       "2               0          0                   0            0             0  \n",
       "3               0          0                   0            0             0  \n",
       "4               0          0                   0            0             0  \n",
       "\n",
       "[5 rows x 243 columns]"
      ]
     },
     "execution_count": 54,
     "metadata": {},
     "output_type": "execute_result"
    }
   ],
   "source": [
    "X = final_data_set.drop(\"price\", axis='columns')\n",
    "X.head(5)"
   ]
  },
  {
   "cell_type": "code",
   "execution_count": 55,
   "id": "7b759c5b",
   "metadata": {},
   "outputs": [
    {
     "data": {
      "text/plain": [
       "0    428.0\n",
       "1    194.0\n",
       "2    235.0\n",
       "3    130.0\n",
       "4    148.0\n",
       "Name: price, dtype: float64"
      ]
     },
     "execution_count": 55,
     "metadata": {},
     "output_type": "execute_result"
    }
   ],
   "source": [
    "y = final_data_set.price\n",
    "y.head(5)"
   ]
  },
  {
   "cell_type": "code",
   "execution_count": 56,
   "id": "990730b4",
   "metadata": {},
   "outputs": [],
   "source": [
    "from sklearn.model_selection import train_test_split\n",
    "from sklearn.linear_model import LinearRegression\n",
    "from sklearn.metrics import classification_report"
   ]
  },
  {
   "cell_type": "code",
   "execution_count": 57,
   "id": "09898028",
   "metadata": {},
   "outputs": [],
   "source": [
    "# Data Set is divided into 25% testing and 75% training\n",
    "X_train, X_test, y_train, y_test = train_test_split(X,y,test_size=0.25,random_state=10)"
   ]
  },
  {
   "cell_type": "code",
   "execution_count": 58,
   "id": "9f740850",
   "metadata": {},
   "outputs": [
    {
     "data": {
      "text/plain": [
       "LinearRegression()"
      ]
     },
     "execution_count": 58,
     "metadata": {},
     "output_type": "execute_result"
    }
   ],
   "source": [
    "model = LinearRegression()\n",
    "model.fit(X_train,y_train)\n"
   ]
  },
  {
   "cell_type": "code",
   "execution_count": 59,
   "id": "376f19b8",
   "metadata": {},
   "outputs": [
    {
     "data": {
      "text/plain": [
       "85.9230348998018"
      ]
     },
     "execution_count": 59,
     "metadata": {},
     "output_type": "execute_result"
    }
   ],
   "source": [
    "# Accuracy on training data with one iteration\n",
    "model.score(X_train,y_train)*100"
   ]
  },
  {
   "cell_type": "code",
   "execution_count": 60,
   "id": "716a2bad",
   "metadata": {},
   "outputs": [
    {
     "data": {
      "text/plain": [
       "82.77627346186323"
      ]
     },
     "execution_count": 60,
     "metadata": {},
     "output_type": "execute_result"
    }
   ],
   "source": [
    "# Accuracy on testing data with one iteration\n",
    "model.score(X_test,y_test)*100"
   ]
  },
  {
   "cell_type": "markdown",
   "id": "9f4e0e31",
   "metadata": {},
   "source": [
    "# Accuracy Scores and Outputs Using Cross Validation"
   ]
  },
  {
   "cell_type": "code",
   "execution_count": 61,
   "id": "b82f02b5",
   "metadata": {},
   "outputs": [
    {
     "data": {
      "text/plain": [
       "130"
      ]
     },
     "execution_count": 61,
     "metadata": {},
     "output_type": "execute_result"
    }
   ],
   "source": [
    "from sklearn.model_selection import ShuffleSplit\n",
    "from sklearn.model_selection import cross_val_score\n",
    "\n",
    "cv = ShuffleSplit(n_splits=200, test_size=0.2, random_state=0)\n",
    "arr = cross_val_score(LinearRegression(), X, y, cv=cv)\n",
    "np.argmax(arr)"
   ]
  },
  {
   "cell_type": "code",
   "execution_count": 62,
   "id": "e026f73a",
   "metadata": {},
   "outputs": [
    {
     "data": {
      "text/plain": [
       "89.56591861282574"
      ]
     },
     "execution_count": 62,
     "metadata": {},
     "output_type": "execute_result"
    }
   ],
   "source": [
    "# Final Accuracy of Model Using K Fold Cross Validation- on 200 splits\n",
    "arr[np.argmax(arr)]*100"
   ]
  },
  {
   "cell_type": "code",
   "execution_count": 63,
   "id": "4cf224d4",
   "metadata": {},
   "outputs": [
    {
     "data": {
      "text/html": [
       "<div>\n",
       "<style scoped>\n",
       "    .dataframe tbody tr th:only-of-type {\n",
       "        vertical-align: middle;\n",
       "    }\n",
       "\n",
       "    .dataframe tbody tr th {\n",
       "        vertical-align: top;\n",
       "    }\n",
       "\n",
       "    .dataframe thead th {\n",
       "        text-align: right;\n",
       "    }\n",
       "</style>\n",
       "<table border=\"1\" class=\"dataframe\">\n",
       "  <thead>\n",
       "    <tr style=\"text-align: right;\">\n",
       "      <th></th>\n",
       "      <th>total_sqft</th>\n",
       "      <th>bath</th>\n",
       "      <th>price</th>\n",
       "      <th>bedrooms</th>\n",
       "      <th>1st Block Jayanagar</th>\n",
       "      <th>1st Phase JP Nagar</th>\n",
       "      <th>2nd Phase Judicial Layout</th>\n",
       "      <th>2nd Stage Nagarbhavi</th>\n",
       "      <th>5th Block Hbr Layout</th>\n",
       "      <th>5th Phase JP Nagar</th>\n",
       "      <th>...</th>\n",
       "      <th>Vijayanagar</th>\n",
       "      <th>Vishveshwarya Layout</th>\n",
       "      <th>Vishwapriya Layout</th>\n",
       "      <th>Vittasandra</th>\n",
       "      <th>Whitefield</th>\n",
       "      <th>Yelachenahalli</th>\n",
       "      <th>Yelahanka</th>\n",
       "      <th>Yelahanka New Town</th>\n",
       "      <th>Yelenahalli</th>\n",
       "      <th>Yeshwanthpur</th>\n",
       "    </tr>\n",
       "  </thead>\n",
       "  <tbody>\n",
       "    <tr>\n",
       "      <th>count</th>\n",
       "      <td>7239.000000</td>\n",
       "      <td>7239.000000</td>\n",
       "      <td>7239.000000</td>\n",
       "      <td>7239.000000</td>\n",
       "      <td>7239.000000</td>\n",
       "      <td>7239.000000</td>\n",
       "      <td>7239.000000</td>\n",
       "      <td>7239.000000</td>\n",
       "      <td>7239.000000</td>\n",
       "      <td>7239.000000</td>\n",
       "      <td>...</td>\n",
       "      <td>7239.000000</td>\n",
       "      <td>7239.000000</td>\n",
       "      <td>7239.000000</td>\n",
       "      <td>7239.000000</td>\n",
       "      <td>7239.000000</td>\n",
       "      <td>7239.000000</td>\n",
       "      <td>7239.000000</td>\n",
       "      <td>7239.000000</td>\n",
       "      <td>7239.000000</td>\n",
       "      <td>7239.000000</td>\n",
       "    </tr>\n",
       "    <tr>\n",
       "      <th>mean</th>\n",
       "      <td>1470.676319</td>\n",
       "      <td>2.413179</td>\n",
       "      <td>96.546676</td>\n",
       "      <td>2.483768</td>\n",
       "      <td>0.000967</td>\n",
       "      <td>0.002210</td>\n",
       "      <td>0.001105</td>\n",
       "      <td>0.000553</td>\n",
       "      <td>0.000829</td>\n",
       "      <td>0.003315</td>\n",
       "      <td>...</td>\n",
       "      <td>0.004006</td>\n",
       "      <td>0.000553</td>\n",
       "      <td>0.000553</td>\n",
       "      <td>0.004282</td>\n",
       "      <td>0.032877</td>\n",
       "      <td>0.001520</td>\n",
       "      <td>0.011880</td>\n",
       "      <td>0.003315</td>\n",
       "      <td>0.001105</td>\n",
       "      <td>0.005111</td>\n",
       "    </tr>\n",
       "    <tr>\n",
       "      <th>std</th>\n",
       "      <td>815.327820</td>\n",
       "      <td>0.938800</td>\n",
       "      <td>87.732734</td>\n",
       "      <td>0.908941</td>\n",
       "      <td>0.031083</td>\n",
       "      <td>0.046965</td>\n",
       "      <td>0.033227</td>\n",
       "      <td>0.023502</td>\n",
       "      <td>0.028780</td>\n",
       "      <td>0.057488</td>\n",
       "      <td>...</td>\n",
       "      <td>0.063171</td>\n",
       "      <td>0.023502</td>\n",
       "      <td>0.023502</td>\n",
       "      <td>0.065304</td>\n",
       "      <td>0.178328</td>\n",
       "      <td>0.038954</td>\n",
       "      <td>0.108354</td>\n",
       "      <td>0.057488</td>\n",
       "      <td>0.033227</td>\n",
       "      <td>0.071315</td>\n",
       "    </tr>\n",
       "    <tr>\n",
       "      <th>min</th>\n",
       "      <td>300.000000</td>\n",
       "      <td>1.000000</td>\n",
       "      <td>10.000000</td>\n",
       "      <td>1.000000</td>\n",
       "      <td>0.000000</td>\n",
       "      <td>0.000000</td>\n",
       "      <td>0.000000</td>\n",
       "      <td>0.000000</td>\n",
       "      <td>0.000000</td>\n",
       "      <td>0.000000</td>\n",
       "      <td>...</td>\n",
       "      <td>0.000000</td>\n",
       "      <td>0.000000</td>\n",
       "      <td>0.000000</td>\n",
       "      <td>0.000000</td>\n",
       "      <td>0.000000</td>\n",
       "      <td>0.000000</td>\n",
       "      <td>0.000000</td>\n",
       "      <td>0.000000</td>\n",
       "      <td>0.000000</td>\n",
       "      <td>0.000000</td>\n",
       "    </tr>\n",
       "    <tr>\n",
       "      <th>25%</th>\n",
       "      <td>1092.000000</td>\n",
       "      <td>2.000000</td>\n",
       "      <td>50.000000</td>\n",
       "      <td>2.000000</td>\n",
       "      <td>0.000000</td>\n",
       "      <td>0.000000</td>\n",
       "      <td>0.000000</td>\n",
       "      <td>0.000000</td>\n",
       "      <td>0.000000</td>\n",
       "      <td>0.000000</td>\n",
       "      <td>...</td>\n",
       "      <td>0.000000</td>\n",
       "      <td>0.000000</td>\n",
       "      <td>0.000000</td>\n",
       "      <td>0.000000</td>\n",
       "      <td>0.000000</td>\n",
       "      <td>0.000000</td>\n",
       "      <td>0.000000</td>\n",
       "      <td>0.000000</td>\n",
       "      <td>0.000000</td>\n",
       "      <td>0.000000</td>\n",
       "    </tr>\n",
       "    <tr>\n",
       "      <th>50%</th>\n",
       "      <td>1255.000000</td>\n",
       "      <td>2.000000</td>\n",
       "      <td>72.000000</td>\n",
       "      <td>2.000000</td>\n",
       "      <td>0.000000</td>\n",
       "      <td>0.000000</td>\n",
       "      <td>0.000000</td>\n",
       "      <td>0.000000</td>\n",
       "      <td>0.000000</td>\n",
       "      <td>0.000000</td>\n",
       "      <td>...</td>\n",
       "      <td>0.000000</td>\n",
       "      <td>0.000000</td>\n",
       "      <td>0.000000</td>\n",
       "      <td>0.000000</td>\n",
       "      <td>0.000000</td>\n",
       "      <td>0.000000</td>\n",
       "      <td>0.000000</td>\n",
       "      <td>0.000000</td>\n",
       "      <td>0.000000</td>\n",
       "      <td>0.000000</td>\n",
       "    </tr>\n",
       "    <tr>\n",
       "      <th>75%</th>\n",
       "      <td>1654.500000</td>\n",
       "      <td>3.000000</td>\n",
       "      <td>110.000000</td>\n",
       "      <td>3.000000</td>\n",
       "      <td>0.000000</td>\n",
       "      <td>0.000000</td>\n",
       "      <td>0.000000</td>\n",
       "      <td>0.000000</td>\n",
       "      <td>0.000000</td>\n",
       "      <td>0.000000</td>\n",
       "      <td>...</td>\n",
       "      <td>0.000000</td>\n",
       "      <td>0.000000</td>\n",
       "      <td>0.000000</td>\n",
       "      <td>0.000000</td>\n",
       "      <td>0.000000</td>\n",
       "      <td>0.000000</td>\n",
       "      <td>0.000000</td>\n",
       "      <td>0.000000</td>\n",
       "      <td>0.000000</td>\n",
       "      <td>0.000000</td>\n",
       "    </tr>\n",
       "    <tr>\n",
       "      <th>max</th>\n",
       "      <td>30000.000000</td>\n",
       "      <td>16.000000</td>\n",
       "      <td>2200.000000</td>\n",
       "      <td>16.000000</td>\n",
       "      <td>1.000000</td>\n",
       "      <td>1.000000</td>\n",
       "      <td>1.000000</td>\n",
       "      <td>1.000000</td>\n",
       "      <td>1.000000</td>\n",
       "      <td>1.000000</td>\n",
       "      <td>...</td>\n",
       "      <td>1.000000</td>\n",
       "      <td>1.000000</td>\n",
       "      <td>1.000000</td>\n",
       "      <td>1.000000</td>\n",
       "      <td>1.000000</td>\n",
       "      <td>1.000000</td>\n",
       "      <td>1.000000</td>\n",
       "      <td>1.000000</td>\n",
       "      <td>1.000000</td>\n",
       "      <td>1.000000</td>\n",
       "    </tr>\n",
       "  </tbody>\n",
       "</table>\n",
       "<p>8 rows × 244 columns</p>\n",
       "</div>"
      ],
      "text/plain": [
       "         total_sqft         bath        price     bedrooms  \\\n",
       "count   7239.000000  7239.000000  7239.000000  7239.000000   \n",
       "mean    1470.676319     2.413179    96.546676     2.483768   \n",
       "std      815.327820     0.938800    87.732734     0.908941   \n",
       "min      300.000000     1.000000    10.000000     1.000000   \n",
       "25%     1092.000000     2.000000    50.000000     2.000000   \n",
       "50%     1255.000000     2.000000    72.000000     2.000000   \n",
       "75%     1654.500000     3.000000   110.000000     3.000000   \n",
       "max    30000.000000    16.000000  2200.000000    16.000000   \n",
       "\n",
       "       1st Block Jayanagar  1st Phase JP Nagar  2nd Phase Judicial Layout  \\\n",
       "count          7239.000000         7239.000000                7239.000000   \n",
       "mean              0.000967            0.002210                   0.001105   \n",
       "std               0.031083            0.046965                   0.033227   \n",
       "min               0.000000            0.000000                   0.000000   \n",
       "25%               0.000000            0.000000                   0.000000   \n",
       "50%               0.000000            0.000000                   0.000000   \n",
       "75%               0.000000            0.000000                   0.000000   \n",
       "max               1.000000            1.000000                   1.000000   \n",
       "\n",
       "       2nd Stage Nagarbhavi  5th Block Hbr Layout  5th Phase JP Nagar  ...  \\\n",
       "count           7239.000000           7239.000000         7239.000000  ...   \n",
       "mean               0.000553              0.000829            0.003315  ...   \n",
       "std                0.023502              0.028780            0.057488  ...   \n",
       "min                0.000000              0.000000            0.000000  ...   \n",
       "25%                0.000000              0.000000            0.000000  ...   \n",
       "50%                0.000000              0.000000            0.000000  ...   \n",
       "75%                0.000000              0.000000            0.000000  ...   \n",
       "max                1.000000              1.000000            1.000000  ...   \n",
       "\n",
       "       Vijayanagar  Vishveshwarya Layout  Vishwapriya Layout  Vittasandra  \\\n",
       "count  7239.000000           7239.000000         7239.000000  7239.000000   \n",
       "mean      0.004006              0.000553            0.000553     0.004282   \n",
       "std       0.063171              0.023502            0.023502     0.065304   \n",
       "min       0.000000              0.000000            0.000000     0.000000   \n",
       "25%       0.000000              0.000000            0.000000     0.000000   \n",
       "50%       0.000000              0.000000            0.000000     0.000000   \n",
       "75%       0.000000              0.000000            0.000000     0.000000   \n",
       "max       1.000000              1.000000            1.000000     1.000000   \n",
       "\n",
       "        Whitefield  Yelachenahalli    Yelahanka  Yelahanka New Town  \\\n",
       "count  7239.000000     7239.000000  7239.000000         7239.000000   \n",
       "mean      0.032877        0.001520     0.011880            0.003315   \n",
       "std       0.178328        0.038954     0.108354            0.057488   \n",
       "min       0.000000        0.000000     0.000000            0.000000   \n",
       "25%       0.000000        0.000000     0.000000            0.000000   \n",
       "50%       0.000000        0.000000     0.000000            0.000000   \n",
       "75%       0.000000        0.000000     0.000000            0.000000   \n",
       "max       1.000000        1.000000     1.000000            1.000000   \n",
       "\n",
       "       Yelenahalli  Yeshwanthpur  \n",
       "count  7239.000000   7239.000000  \n",
       "mean      0.001105      0.005111  \n",
       "std       0.033227      0.071315  \n",
       "min       0.000000      0.000000  \n",
       "25%       0.000000      0.000000  \n",
       "50%       0.000000      0.000000  \n",
       "75%       0.000000      0.000000  \n",
       "max       1.000000      1.000000  \n",
       "\n",
       "[8 rows x 244 columns]"
      ]
     },
     "execution_count": 63,
     "metadata": {},
     "output_type": "execute_result"
    }
   ],
   "source": [
    "final_data_set.describe()"
   ]
  }
 ],
 "metadata": {
  "kernelspec": {
   "display_name": "Python 3 (ipykernel)",
   "language": "python",
   "name": "python3"
  },
  "language_info": {
   "codemirror_mode": {
    "name": "ipython",
    "version": 3
   },
   "file_extension": ".py",
   "mimetype": "text/x-python",
   "name": "python",
   "nbconvert_exporter": "python",
   "pygments_lexer": "ipython3",
   "version": "3.9.7"
  }
 },
 "nbformat": 4,
 "nbformat_minor": 5
}
